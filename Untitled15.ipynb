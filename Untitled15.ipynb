{
 "cells": [
  {
   "cell_type": "code",
   "execution_count": 69,
   "id": "f8838a55-82fd-45f3-bf19-fb7aa1efbb82",
   "metadata": {},
   "outputs": [
    {
     "data": {
      "text/plain": [
       "'C:\\\\Users\\\\User'"
      ]
     },
     "execution_count": 69,
     "metadata": {},
     "output_type": "execute_result"
    }
   ],
   "source": []
  },
  {
   "cell_type": "code",
   "execution_count": 4,
   "id": "cdfba04d-b3a4-4a07-bd0a-a58dd130edf6",
   "metadata": {},
   "outputs": [],
   "source": [
    "#import numpy as a np\n",
    "import numpy as np"
   ]
  },
  {
   "cell_type": "code",
   "execution_count": 23,
   "id": "e65365b0-fd89-4705-8c72-1f87f61cc655",
   "metadata": {},
   "outputs": [],
   "source": [
    "#1 or 0 dimensional array\n",
    "array_id = np.arange(10)"
   ]
  },
  {
   "cell_type": "code",
   "execution_count": 7,
   "id": "df2676df-a615-46f7-8acd-2a49514b8df3",
   "metadata": {},
   "outputs": [
    {
     "name": "stdout",
     "output_type": "stream",
     "text": [
      "[0 1 2 3 4 5 6 7 8 9]\n"
     ]
    }
   ],
   "source": [
    "#print array \n",
    "print(array_id)"
   ]
  },
  {
   "cell_type": "code",
   "execution_count": 37,
   "id": "c43aa732-7e10-41e3-8c96-6a269f7fa9c7",
   "metadata": {},
   "outputs": [],
   "source": [
    "#2 dimenctional array\n",
    "b=np.array([[1,2],[3,5]])"
   ]
  },
  {
   "cell_type": "code",
   "execution_count": 25,
   "id": "21d114da-36cf-4330-9cf9-9f461f1d6e86",
   "metadata": {},
   "outputs": [
    {
     "name": "stdout",
     "output_type": "stream",
     "text": [
      "[[1.  2. ]\n",
      " [3.2 4. ]]\n"
     ]
    }
   ],
   "source": [
    "print(b)"
   ]
  },
  {
   "cell_type": "code",
   "execution_count": 38,
   "id": "7f2e441c-4956-44e0-af2d-1fbd9c06893b",
   "metadata": {},
   "outputs": [
    {
     "name": "stdout",
     "output_type": "stream",
     "text": [
      "2\n"
     ]
    }
   ],
   "source": [
    "#print array\n",
    "print(b.ndim)"
   ]
  },
  {
   "cell_type": "code",
   "execution_count": 39,
   "id": "c3338c04-3344-4954-82b0-a36f26ba91df",
   "metadata": {},
   "outputs": [],
   "source": [
    "c=np.array([[2,5],[6,9]])"
   ]
  },
  {
   "cell_type": "code",
   "execution_count": 68,
   "id": "7cb4a4cc-3091-4ef8-a96b-1dd5d29e1936",
   "metadata": {},
   "outputs": [
    {
     "name": "stdout",
     "output_type": "stream",
     "text": [
      "[[[2, 3, 2]]]\n"
     ]
    }
   ],
   "source": [
    "print(c)"
   ]
  },
  {
   "cell_type": "code",
   "execution_count": 41,
   "id": "f77e3f07-6365-4316-a198-2499cecb0e64",
   "metadata": {},
   "outputs": [
    {
     "name": "stdout",
     "output_type": "stream",
     "text": [
      "2\n"
     ]
    }
   ],
   "source": [
    "print(b.ndim)"
   ]
  },
  {
   "cell_type": "code",
   "execution_count": 42,
   "id": "d51a0621-45e3-46fa-bd85-742152490ae4",
   "metadata": {},
   "outputs": [
    {
     "name": "stdout",
     "output_type": "stream",
     "text": [
      "(2, 2)\n"
     ]
    }
   ],
   "source": [
    "#properties of the array\n",
    "print(b.shape)"
   ]
  },
  {
   "cell_type": "code",
   "execution_count": 43,
   "id": "05df51a1-6e80-4183-97fd-2c5ba8abc943",
   "metadata": {},
   "outputs": [
    {
     "name": "stdout",
     "output_type": "stream",
     "text": [
      "4\n"
     ]
    }
   ],
   "source": [
    "print(b.size)"
   ]
  },
  {
   "cell_type": "code",
   "execution_count": 44,
   "id": "52f8a17a-5a5e-4a38-975f-4c5b6478b119",
   "metadata": {},
   "outputs": [],
   "source": [
    "array_1=np.array(10)"
   ]
  },
  {
   "cell_type": "code",
   "execution_count": 45,
   "id": "66333481-4c0b-4858-99d9-f178e469be2a",
   "metadata": {},
   "outputs": [
    {
     "name": "stdout",
     "output_type": "stream",
     "text": [
      "10\n"
     ]
    }
   ],
   "source": [
    "print(array_1)"
   ]
  },
  {
   "cell_type": "code",
   "execution_count": 66,
   "id": "a3f0b8dc-f4e3-4060-9c01-e4986d40471a",
   "metadata": {},
   "outputs": [],
   "source": [
    "array_2=np.array([[3,4],[5,9]])"
   ]
  },
  {
   "cell_type": "code",
   "execution_count": 48,
   "id": "368e21ff-a458-48d3-a7d4-980108d9366a",
   "metadata": {},
   "outputs": [
    {
     "name": "stdout",
     "output_type": "stream",
     "text": [
      "[[3 2]\n",
      " [4 4]]\n"
     ]
    }
   ],
   "source": [
    "print(array_2)"
   ]
  },
  {
   "cell_type": "code",
   "execution_count": 50,
   "id": "e9276a06-5e3a-4834-b255-ce745f332125",
   "metadata": {},
   "outputs": [],
   "source": [
    "#3 dimensional array\n",
    "array3=np.array([[[3,4],[3,4],[5,6]]])"
   ]
  },
  {
   "cell_type": "code",
   "execution_count": 51,
   "id": "3368c55b-2e20-4924-b2bb-89db155ea9d9",
   "metadata": {},
   "outputs": [
    {
     "name": "stdout",
     "output_type": "stream",
     "text": [
      "[[[3 4]\n",
      "  [3 4]\n",
      "  [5 6]]]\n"
     ]
    }
   ],
   "source": [
    "print(array3)"
   ]
  },
  {
   "cell_type": "code",
   "execution_count": 56,
   "id": "4963c7c3-6b1f-4a2c-8b2f-8911cc06f8a2",
   "metadata": {},
   "outputs": [],
   "source": [
    "A= np.array([[[2,3],[4,5],[5,9]]])"
   ]
  },
  {
   "cell_type": "code",
   "execution_count": 53,
   "id": "71b2e706-34d8-4df9-a1d3-38512eb6dc17",
   "metadata": {},
   "outputs": [
    {
     "name": "stdout",
     "output_type": "stream",
     "text": [
      "[[[2, 3], [4, 5], [5, 9]]]\n"
     ]
    }
   ],
   "source": [
    "print(A)"
   ]
  },
  {
   "cell_type": "code",
   "execution_count": 57,
   "id": "3f6d7efe-cbf1-4e6e-998e-af1457294a54",
   "metadata": {},
   "outputs": [],
   "source": [
    "c=([[[2,3,2]]])"
   ]
  },
  {
   "cell_type": "code",
   "execution_count": 60,
   "id": "e2f09ff8-dfa4-401f-b27d-389b014bf648",
   "metadata": {},
   "outputs": [
    {
     "name": "stdout",
     "output_type": "stream",
     "text": [
      "(1, 1, 3)\n"
     ]
    }
   ],
   "source": [
    "print(np.shape(c))"
   ]
  },
  {
   "cell_type": "code",
   "execution_count": 63,
   "id": "3db88619-30e7-4dee-bc32-49d4f3e11b32",
   "metadata": {},
   "outputs": [
    {
     "name": "stdout",
     "output_type": "stream",
     "text": [
      "3\n"
     ]
    }
   ],
   "source": [
    "print(np.size(c))"
   ]
  },
  {
   "cell_type": "code",
   "execution_count": 64,
   "id": "313154a9-2074-4ee2-aa07-95e8858adbb8",
   "metadata": {},
   "outputs": [],
   "source": [
    "B= np.array([[[2,3],[4,5],[5,9]]])"
   ]
  },
  {
   "cell_type": "code",
   "execution_count": 65,
   "id": "25c9aeb6-3873-4da3-a96f-6d8fb5b13622",
   "metadata": {},
   "outputs": [
    {
     "name": "stdout",
     "output_type": "stream",
     "text": [
      "6\n"
     ]
    }
   ],
   "source": [
    "print(B.size)"
   ]
  },
  {
   "cell_type": "code",
   "execution_count": null,
   "id": "16100ec3-ed2b-4b72-8bd2-630978430578",
   "metadata": {},
   "outputs": [],
   "source": []
  }
 ],
 "metadata": {
  "kernelspec": {
   "display_name": "Python 3 (ipykernel)",
   "language": "python",
   "name": "python3"
  },
  "language_info": {
   "codemirror_mode": {
    "name": "ipython",
    "version": 3
   },
   "file_extension": ".py",
   "mimetype": "text/x-python",
   "name": "python",
   "nbconvert_exporter": "python",
   "pygments_lexer": "ipython3",
   "version": "3.11.7"
  }
 },
 "nbformat": 4,
 "nbformat_minor": 5
}
