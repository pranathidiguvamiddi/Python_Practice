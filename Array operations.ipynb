{
 "cells": [
  {
   "cell_type": "code",
   "execution_count": 1,
   "id": "42cd310d-f2db-40ae-929c-3f1ce3c8b7e9",
   "metadata": {},
   "outputs": [],
   "source": [
    "#array operations \n",
    "import numpy as np\n"
   ]
  },
  {
   "cell_type": "code",
   "execution_count": 2,
   "id": "cde0816a-f525-4d58-87a4-b484939bbd63",
   "metadata": {},
   "outputs": [],
   "source": [
    "a=np.array([[10,23,32],[34,23,23]])"
   ]
  },
  {
   "cell_type": "code",
   "execution_count": 3,
   "id": "4f858641-202e-495e-88ff-6c6ee45c6710",
   "metadata": {},
   "outputs": [
    {
     "data": {
      "text/plain": [
       "array([[10, 23, 32],\n",
       "       [34, 23, 23]])"
      ]
     },
     "execution_count": 3,
     "metadata": {},
     "output_type": "execute_result"
    }
   ],
   "source": [
    "a"
   ]
  },
  {
   "cell_type": "code",
   "execution_count": 4,
   "id": "aad13e23-855c-4ac8-b9d1-6c2b3bb9f720",
   "metadata": {},
   "outputs": [
    {
     "data": {
      "text/plain": [
       "array([10, 23, 32])"
      ]
     },
     "execution_count": 4,
     "metadata": {},
     "output_type": "execute_result"
    }
   ],
   "source": [
    "a[0]"
   ]
  },
  {
   "cell_type": "code",
   "execution_count": 5,
   "id": "e634f1c9-2d64-4cfd-9e13-255004bff1e9",
   "metadata": {},
   "outputs": [
    {
     "data": {
      "text/plain": [
       "array([34, 23, 23])"
      ]
     },
     "execution_count": 5,
     "metadata": {},
     "output_type": "execute_result"
    }
   ],
   "source": [
    "a[1]"
   ]
  },
  {
   "cell_type": "code",
   "execution_count": 6,
   "id": "a005cdfc-7b68-46b8-bdb2-8bc537ca8da7",
   "metadata": {},
   "outputs": [
    {
     "data": {
      "text/plain": [
       "23"
      ]
     },
     "execution_count": 6,
     "metadata": {},
     "output_type": "execute_result"
    }
   ],
   "source": [
    "a[0][1]"
   ]
  },
  {
   "cell_type": "code",
   "execution_count": 7,
   "id": "e9fd6b96-19d0-4f84-aecb-226f46aa4d61",
   "metadata": {},
   "outputs": [],
   "source": [
    "#slicing\n",
    "s=np.arange(10,100,10)"
   ]
  },
  {
   "cell_type": "code",
   "execution_count": 8,
   "id": "9ea27a38-cd17-4c92-9e50-b7df610c2f9a",
   "metadata": {},
   "outputs": [
    {
     "data": {
      "text/plain": [
       "array([10, 20, 30, 40, 50, 60, 70, 80, 90])"
      ]
     },
     "execution_count": 8,
     "metadata": {},
     "output_type": "execute_result"
    }
   ],
   "source": [
    "s"
   ]
  },
  {
   "cell_type": "code",
   "execution_count": 10,
   "id": "df565d2f-2ef4-4f9f-82fb-6f343aa50d2f",
   "metadata": {},
   "outputs": [
    {
     "data": {
      "text/plain": [
       "array([30, 40, 50])"
      ]
     },
     "execution_count": 10,
     "metadata": {},
     "output_type": "execute_result"
    }
   ],
   "source": [
    "s[2:5]"
   ]
  },
  {
   "cell_type": "code",
   "execution_count": 11,
   "id": "fa292786-6c22-4c0a-96a7-9a290727d65c",
   "metadata": {},
   "outputs": [],
   "source": [
    "b=np.copy(a)"
   ]
  },
  {
   "cell_type": "code",
   "execution_count": 12,
   "id": "a2f3d82f-3fac-49df-8727-c94f7712b75f",
   "metadata": {},
   "outputs": [
    {
     "data": {
      "text/plain": [
       "array([[10, 23, 32],\n",
       "       [34, 23, 23]])"
      ]
     },
     "execution_count": 12,
     "metadata": {},
     "output_type": "execute_result"
    }
   ],
   "source": [
    "b"
   ]
  },
  {
   "cell_type": "code",
   "execution_count": 13,
   "id": "9bf769d2-e6f6-4e16-ae59-ca3ed6071d2b",
   "metadata": {},
   "outputs": [
    {
     "data": {
      "text/plain": [
       "(array([[10, 23, 32],\n",
       "        [34, 23, 23]]),\n",
       " array([[10, 23, 32],\n",
       "        [34, 23, 23]]))"
      ]
     },
     "execution_count": 13,
     "metadata": {},
     "output_type": "execute_result"
    }
   ],
   "source": [
    "a,b"
   ]
  },
  {
   "cell_type": "code",
   "execution_count": 15,
   "id": "5850ead9-bbcf-4b29-867e-831e85b5127b",
   "metadata": {},
   "outputs": [],
   "source": [
    "#view\n",
    "c=b.view()"
   ]
  },
  {
   "cell_type": "code",
   "execution_count": 16,
   "id": "288cf5da-8126-46bc-94a5-4070687c68ef",
   "metadata": {},
   "outputs": [
    {
     "data": {
      "text/plain": [
       "array([[10, 23, 32],\n",
       "       [34, 23, 23]])"
      ]
     },
     "execution_count": 16,
     "metadata": {},
     "output_type": "execute_result"
    }
   ],
   "source": [
    "c"
   ]
  },
  {
   "cell_type": "code",
   "execution_count": 18,
   "id": "fa83378a-e5c9-4665-8eb8-bbae085f8d6d",
   "metadata": {},
   "outputs": [
    {
     "name": "stdout",
     "output_type": "stream",
     "text": [
      "a= [[10 23 32]\n",
      " [34 23 23]]\n",
      "b= [[10 23 32]\n",
      " [34 23 23]]\n",
      "c= [[10 23 32]\n",
      " [34 23 23]]\n"
     ]
    }
   ],
   "source": [
    "print(\"a=\",a)\n",
    "print(\"b=\",b)\n",
    "print(\"c=\",c)"
   ]
  },
  {
   "cell_type": "code",
   "execution_count": 21,
   "id": "4b86ff53-6264-4cb2-b3fe-498ccb1db4d2",
   "metadata": {},
   "outputs": [],
   "source": [
    "a[0][2]=200"
   ]
  },
  {
   "cell_type": "code",
   "execution_count": 22,
   "id": "af114cea-17a3-4cd9-9178-6bb56cc34e7a",
   "metadata": {},
   "outputs": [
    {
     "data": {
      "text/plain": [
       "array([[ 10,  23, 200],\n",
       "       [ 34,  23,  23]])"
      ]
     },
     "execution_count": 22,
     "metadata": {},
     "output_type": "execute_result"
    }
   ],
   "source": [
    "a"
   ]
  },
  {
   "cell_type": "code",
   "execution_count": 23,
   "id": "018286b5-ebfb-4657-b511-27544ace4aaa",
   "metadata": {},
   "outputs": [
    {
     "data": {
      "text/plain": [
       "array([[10, 23, 32],\n",
       "       [34, 23, 23]])"
      ]
     },
     "execution_count": 23,
     "metadata": {},
     "output_type": "execute_result"
    }
   ],
   "source": [
    "b"
   ]
  },
  {
   "cell_type": "code",
   "execution_count": 24,
   "id": "1ded4bf1-1487-4ce6-afb5-2ee9269b1c99",
   "metadata": {},
   "outputs": [],
   "source": [
    "b[1][0]=78"
   ]
  },
  {
   "cell_type": "code",
   "execution_count": 25,
   "id": "d005deff-d90d-41ed-b6ea-80a9f1a9433d",
   "metadata": {},
   "outputs": [
    {
     "data": {
      "text/plain": [
       "array([[10, 23, 32],\n",
       "       [78, 23, 23]])"
      ]
     },
     "execution_count": 25,
     "metadata": {},
     "output_type": "execute_result"
    }
   ],
   "source": [
    "b"
   ]
  },
  {
   "cell_type": "code",
   "execution_count": 26,
   "id": "7794d25d-3c70-470a-be54-6b0e40ec9ebd",
   "metadata": {},
   "outputs": [
    {
     "data": {
      "text/plain": [
       "array([[10, 23, 32],\n",
       "       [78, 23, 23]])"
      ]
     },
     "execution_count": 26,
     "metadata": {},
     "output_type": "execute_result"
    }
   ],
   "source": [
    "c"
   ]
  },
  {
   "cell_type": "code",
   "execution_count": 41,
   "id": "92e8a6a8-cf0b-4a95-acbb-67c0de7a1b10",
   "metadata": {},
   "outputs": [],
   "source": [
    "#sort\n",
    "a=np.array([20,20,50,40,50,60])\n"
   ]
  },
  {
   "cell_type": "code",
   "execution_count": 42,
   "id": "3629b558-8310-42b1-8de1-319bc79a55f9",
   "metadata": {},
   "outputs": [
    {
     "data": {
      "text/plain": [
       "array([20, 20, 50, 40, 50, 60])"
      ]
     },
     "execution_count": 42,
     "metadata": {},
     "output_type": "execute_result"
    }
   ],
   "source": [
    "a"
   ]
  },
  {
   "cell_type": "code",
   "execution_count": 44,
   "id": "c2aa8472-c102-4417-94e7-561af9f096fa",
   "metadata": {},
   "outputs": [
    {
     "data": {
      "text/plain": [
       "array([20, 20, 40, 50, 50, 60])"
      ]
     },
     "execution_count": 44,
     "metadata": {},
     "output_type": "execute_result"
    }
   ],
   "source": [
    "np.sort(a,axis=0)"
   ]
  },
  {
   "cell_type": "code",
   "execution_count": 45,
   "id": "e7956f78-70f4-4cf9-b794-2d458c535469",
   "metadata": {},
   "outputs": [
    {
     "data": {
      "text/plain": [
       "array([20, 20, 50, 40, 50, 60])"
      ]
     },
     "execution_count": 45,
     "metadata": {},
     "output_type": "execute_result"
    }
   ],
   "source": [
    "a"
   ]
  },
  {
   "cell_type": "code",
   "execution_count": 47,
   "id": "9deb284f-ee80-4622-a49f-7fa02c7f48ab",
   "metadata": {},
   "outputs": [],
   "source": [
    "a=np.arange(10,100,10)\n"
   ]
  },
  {
   "cell_type": "code",
   "execution_count": 48,
   "id": "3950be6a-6db9-4999-8467-8e7d91d098e8",
   "metadata": {},
   "outputs": [
    {
     "data": {
      "text/plain": [
       "array([10, 20, 30, 40, 50, 60, 70, 80, 90])"
      ]
     },
     "execution_count": 48,
     "metadata": {},
     "output_type": "execute_result"
    }
   ],
   "source": [
    "a"
   ]
  },
  {
   "cell_type": "code",
   "execution_count": 52,
   "id": "b4050ff4-336b-4665-97c6-7d865893c86a",
   "metadata": {},
   "outputs": [],
   "source": [
    "p=a.reshape(3,3)"
   ]
  },
  {
   "cell_type": "code",
   "execution_count": 53,
   "id": "f5ae46fe-a305-4579-ad31-efa982062fcc",
   "metadata": {},
   "outputs": [
    {
     "data": {
      "text/plain": [
       "array([[10, 20, 30],\n",
       "       [40, 50, 60],\n",
       "       [70, 80, 90]])"
      ]
     },
     "execution_count": 53,
     "metadata": {},
     "output_type": "execute_result"
    }
   ],
   "source": [
    "p"
   ]
  },
  {
   "cell_type": "code",
   "execution_count": 57,
   "id": "b535a250-9cce-4030-8452-41052bfea937",
   "metadata": {},
   "outputs": [],
   "source": [
    "a=np.array([10,30,2])\n",
    "b=np.array([20,30,48])"
   ]
  },
  {
   "cell_type": "code",
   "execution_count": 59,
   "id": "acc8edf8-ff31-45b1-8097-8fe7fd8c654d",
   "metadata": {},
   "outputs": [
    {
     "data": {
      "text/plain": [
       "array([[10, 30,  2],\n",
       "       [20, 30, 48]])"
      ]
     },
     "execution_count": 59,
     "metadata": {},
     "output_type": "execute_result"
    }
   ],
   "source": [
    "np.append(a,b).reshape(2,3)"
   ]
  },
  {
   "cell_type": "code",
   "execution_count": 60,
   "id": "bc381c8d-de73-4039-a9d6-f1dbf2ed7d88",
   "metadata": {},
   "outputs": [],
   "source": [
    "a=np.array([10,30,2])\n",
    "b=np.array([20,30,48])"
   ]
  },
  {
   "cell_type": "code",
   "execution_count": 66,
   "id": "e9cbae46-99c6-468a-aed8-ff45652010b2",
   "metadata": {},
   "outputs": [
    {
     "data": {
      "text/plain": [
       "array([10, 56, 30,  2])"
      ]
     },
     "execution_count": 66,
     "metadata": {},
     "output_type": "execute_result"
    }
   ],
   "source": [
    "np.insert(a,1,56)"
   ]
  },
  {
   "cell_type": "code",
   "execution_count": 72,
   "id": "689895b0-abc4-41b4-8837-c52175bddc0d",
   "metadata": {},
   "outputs": [
    {
     "data": {
      "text/plain": [
       "array([10,  2])"
      ]
     },
     "execution_count": 72,
     "metadata": {},
     "output_type": "execute_result"
    }
   ],
   "source": [
    "np.delete(a,1)"
   ]
  },
  {
   "cell_type": "code",
   "execution_count": 75,
   "id": "cf34da4f-53ba-4c43-abee-2fa77c57859c",
   "metadata": {},
   "outputs": [],
   "source": [
    "import numpy as np\n",
    "a=np.array([10,80,2])\n",
    "b=np.array([90,30,48])"
   ]
  },
  {
   "cell_type": "code",
   "execution_count": 84,
   "id": "67bc5f09-f1eb-4986-9aa5-6fe03c1342e9",
   "metadata": {},
   "outputs": [
    {
     "data": {
      "text/plain": [
       "array([10, 80,  2, 90, 30, 48])"
      ]
     },
     "execution_count": 84,
     "metadata": {},
     "output_type": "execute_result"
    }
   ],
   "source": [
    "np.concatenate((a,b),axis=0)"
   ]
  },
  {
   "cell_type": "code",
   "execution_count": 86,
   "id": "faaf3265-e5a3-4f86-8441-617e54a6f7bf",
   "metadata": {},
   "outputs": [],
   "source": [
    "res=np.stack((a,b))"
   ]
  },
  {
   "cell_type": "code",
   "execution_count": 87,
   "id": "d0d5f90b-da42-4614-93d6-b2a2e22008a0",
   "metadata": {},
   "outputs": [
    {
     "data": {
      "text/plain": [
       "array([[10, 80,  2],\n",
       "       [90, 30, 48]])"
      ]
     },
     "execution_count": 87,
     "metadata": {},
     "output_type": "execute_result"
    }
   ],
   "source": [
    "res"
   ]
  },
  {
   "cell_type": "code",
   "execution_count": 88,
   "id": "5daf8b2f-52d1-46ce-a2da-6a09c8b3bdbd",
   "metadata": {},
   "outputs": [
    {
     "data": {
      "text/plain": [
       "array([10, 80,  2])"
      ]
     },
     "execution_count": 88,
     "metadata": {},
     "output_type": "execute_result"
    }
   ],
   "source": [
    "res[0]"
   ]
  },
  {
   "cell_type": "markdown",
   "id": "47e22474-145b-41f4-8db5-6b3148f7a101",
   "metadata": {},
   "source": [
    "res[1]"
   ]
  },
  {
   "cell_type": "code",
   "execution_count": 89,
   "id": "49de1c91-dc2c-43e7-b30e-6599dc3f5276",
   "metadata": {},
   "outputs": [
    {
     "data": {
      "text/plain": [
       "80"
      ]
     },
     "execution_count": 89,
     "metadata": {},
     "output_type": "execute_result"
    }
   ],
   "source": [
    "res[0][1]"
   ]
  },
  {
   "cell_type": "code",
   "execution_count": 90,
   "id": "f2a2484f-e261-41d9-a53a-b3e63676fbab",
   "metadata": {},
   "outputs": [
    {
     "data": {
      "text/plain": [
       "array([90, 30, 48])"
      ]
     },
     "execution_count": 90,
     "metadata": {},
     "output_type": "execute_result"
    }
   ],
   "source": [
    "res[1]"
   ]
  },
  {
   "cell_type": "code",
   "execution_count": 94,
   "id": "7d4477cc-e9af-49a8-9fa5-abb2cbdd578b",
   "metadata": {},
   "outputs": [
    {
     "data": {
      "text/plain": [
       "array([[10, 90],\n",
       "       [80, 30],\n",
       "       [ 2, 48]])"
      ]
     },
     "execution_count": 94,
     "metadata": {},
     "output_type": "execute_result"
    }
   ],
   "source": [
    "np.stack((a,b),axis=1)"
   ]
  },
  {
   "cell_type": "code",
   "execution_count": 95,
   "id": "86e39434-06b8-4e66-9f60-9f0dde48d9bb",
   "metadata": {},
   "outputs": [
    {
     "data": {
      "text/plain": [
       "array([10, 80,  2])"
      ]
     },
     "execution_count": 95,
     "metadata": {},
     "output_type": "execute_result"
    }
   ],
   "source": [
    "a"
   ]
  },
  {
   "cell_type": "code",
   "execution_count": 96,
   "id": "5c058430-93e0-45fb-b6c2-92dd5c7dcae5",
   "metadata": {},
   "outputs": [
    {
     "data": {
      "text/plain": [
       "array([90, 30, 48])"
      ]
     },
     "execution_count": 96,
     "metadata": {},
     "output_type": "execute_result"
    }
   ],
   "source": [
    "b"
   ]
  },
  {
   "cell_type": "code",
   "execution_count": 98,
   "id": "d8f054e0-124e-418a-b784-710f6717f98e",
   "metadata": {},
   "outputs": [
    {
     "data": {
      "text/plain": [
       "array([[10, 80,  2],\n",
       "       [90, 30, 48]])"
      ]
     },
     "execution_count": 98,
     "metadata": {},
     "output_type": "execute_result"
    }
   ],
   "source": [
    "np.vstack((a,b))"
   ]
  },
  {
   "cell_type": "code",
   "execution_count": 99,
   "id": "8c77268a-5bb1-473b-a57f-6f10cdbbdae3",
   "metadata": {},
   "outputs": [
    {
     "data": {
      "text/plain": [
       "array([10, 80,  2, 90, 30, 48])"
      ]
     },
     "execution_count": 99,
     "metadata": {},
     "output_type": "execute_result"
    }
   ],
   "source": [
    "np.hstack((a,b))"
   ]
  },
  {
   "cell_type": "code",
   "execution_count": 100,
   "id": "9a0aae8e-ffbb-4dd7-8e85-91fb88e4b65d",
   "metadata": {},
   "outputs": [
    {
     "data": {
      "text/plain": [
       "array([10, 80,  2, 90, 30, 48])"
      ]
     },
     "execution_count": 100,
     "metadata": {},
     "output_type": "execute_result"
    }
   ],
   "source": [
    "np.concatenate((a,b))"
   ]
  },
  {
   "cell_type": "code",
   "execution_count": 101,
   "id": "2d009007-9c61-4134-86b0-f6d34380a5ea",
   "metadata": {},
   "outputs": [
    {
     "data": {
      "text/plain": [
       "array([10, 80,  2])"
      ]
     },
     "execution_count": 101,
     "metadata": {},
     "output_type": "execute_result"
    }
   ],
   "source": [
    "a"
   ]
  },
  {
   "cell_type": "code",
   "execution_count": 102,
   "id": "6ee130f3-5d98-468e-be5e-9ae1098ca56a",
   "metadata": {},
   "outputs": [
    {
     "data": {
      "text/plain": [
       "array([90, 30, 48])"
      ]
     },
     "execution_count": 102,
     "metadata": {},
     "output_type": "execute_result"
    }
   ],
   "source": [
    "b"
   ]
  },
  {
   "cell_type": "code",
   "execution_count": 103,
   "id": "49d73e44-48ca-435c-8ab3-3090e2357b1c",
   "metadata": {},
   "outputs": [
    {
     "data": {
      "text/plain": [
       "array([[[10, 90],\n",
       "        [80, 30],\n",
       "        [ 2, 48]]])"
      ]
     },
     "execution_count": 103,
     "metadata": {},
     "output_type": "execute_result"
    }
   ],
   "source": [
    "np.dstack((a,b))"
   ]
  },
  {
   "cell_type": "code",
   "execution_count": 113,
   "id": "23053fd4-6508-43ce-bb37-45484f27f1ca",
   "metadata": {},
   "outputs": [],
   "source": [
    "import numpy as np\n",
    "x=np.arange(10,100,10)"
   ]
  },
  {
   "cell_type": "code",
   "execution_count": 114,
   "id": "aac90036-c0bc-42bb-a80f-cd7315ea70ae",
   "metadata": {},
   "outputs": [
    {
     "data": {
      "text/plain": [
       "array([10, 20, 30, 40, 50, 60, 70, 80, 90])"
      ]
     },
     "execution_count": 114,
     "metadata": {},
     "output_type": "execute_result"
    }
   ],
   "source": [
    "x"
   ]
  },
  {
   "cell_type": "code",
   "execution_count": 123,
   "id": "16bdbbfc-1bff-43f9-9366-99f55de0d0cd",
   "metadata": {},
   "outputs": [],
   "source": [
    "z=np.split(x,3)"
   ]
  },
  {
   "cell_type": "code",
   "execution_count": 126,
   "id": "ed85e8e9-2243-4dfe-91d4-06d57e644b3b",
   "metadata": {},
   "outputs": [
    {
     "data": {
      "text/plain": [
       "[array([10, 20, 30]), array([40, 50, 60]), array([70, 80, 90])]"
      ]
     },
     "execution_count": 126,
     "metadata": {},
     "output_type": "execute_result"
    }
   ],
   "source": [
    "z"
   ]
  },
  {
   "cell_type": "code",
   "execution_count": 127,
   "id": "f569a6d7-7dc5-4b3c-bbc1-6c8bf4488055",
   "metadata": {},
   "outputs": [
    {
     "name": "stdout",
     "output_type": "stream",
     "text": [
      "[array([10, 20, 30]), array([40, 50, 60]), array([70, 80, 90])]\n"
     ]
    }
   ],
   "source": [
    "print(z)"
   ]
  },
  {
   "cell_type": "code",
   "execution_count": 131,
   "id": "902ce3d9-8a1c-4d4b-8e40-8beff796fc67",
   "metadata": {},
   "outputs": [],
   "source": [
    "s1,s2,s3=np.split(x,3)"
   ]
  },
  {
   "cell_type": "code",
   "execution_count": 132,
   "id": "2b5b85ac-9dd5-4fa2-ace7-8b23b34522c8",
   "metadata": {},
   "outputs": [
    {
     "data": {
      "text/plain": [
       "array([10, 20, 30])"
      ]
     },
     "execution_count": 132,
     "metadata": {},
     "output_type": "execute_result"
    }
   ],
   "source": [
    "s1"
   ]
  },
  {
   "cell_type": "code",
   "execution_count": 133,
   "id": "45a78b15-4c79-4eb4-be2c-fd370aa95f75",
   "metadata": {},
   "outputs": [
    {
     "data": {
      "text/plain": [
       "array([40, 50, 60])"
      ]
     },
     "execution_count": 133,
     "metadata": {},
     "output_type": "execute_result"
    }
   ],
   "source": [
    "s2"
   ]
  },
  {
   "cell_type": "code",
   "execution_count": 134,
   "id": "b4eecfe1-df73-470c-ae79-080277aee2fe",
   "metadata": {},
   "outputs": [
    {
     "data": {
      "text/plain": [
       "array([70, 80, 90])"
      ]
     },
     "execution_count": 134,
     "metadata": {},
     "output_type": "execute_result"
    }
   ],
   "source": [
    "s3"
   ]
  },
  {
   "cell_type": "code",
   "execution_count": 138,
   "id": "a286ba83-bcf3-4eaf-8be6-1f70187766c0",
   "metadata": {},
   "outputs": [],
   "source": [
    "a=np.arange(10,120,20).reshape(2,3)"
   ]
  },
  {
   "cell_type": "code",
   "execution_count": 139,
   "id": "df2265e5-852a-47c6-8972-478420ffc1c0",
   "metadata": {},
   "outputs": [
    {
     "data": {
      "text/plain": [
       "array([[ 10,  30,  50],\n",
       "       [ 70,  90, 110]])"
      ]
     },
     "execution_count": 139,
     "metadata": {},
     "output_type": "execute_result"
    }
   ],
   "source": [
    "a"
   ]
  },
  {
   "cell_type": "code",
   "execution_count": 140,
   "id": "e073fd0d-0c05-450d-9620-3608f7a6180c",
   "metadata": {},
   "outputs": [
    {
     "data": {
      "text/plain": [
       "array([[ 10,  30,  50],\n",
       "       [ 70,  90, 110]])"
      ]
     },
     "execution_count": 140,
     "metadata": {},
     "output_type": "execute_result"
    }
   ],
   "source": [
    "a"
   ]
  },
  {
   "cell_type": "code",
   "execution_count": 141,
   "id": "8086532d-f2e3-4be1-b76a-764c64c66d6a",
   "metadata": {},
   "outputs": [
    {
     "data": {
      "text/plain": [
       "array([[ 10,  30,  50],\n",
       "       [ 70,  90, 110]])"
      ]
     },
     "execution_count": 141,
     "metadata": {},
     "output_type": "execute_result"
    }
   ],
   "source": [
    "a"
   ]
  },
  {
   "cell_type": "code",
   "execution_count": 142,
   "id": "d127a57d-066b-4659-b988-c294ed0b0898",
   "metadata": {},
   "outputs": [
    {
     "data": {
      "text/plain": [
       "(array([0], dtype=int64), array([1], dtype=int64))"
      ]
     },
     "execution_count": 142,
     "metadata": {},
     "output_type": "execute_result"
    }
   ],
   "source": [
    "np.where(a==30)"
   ]
  },
  {
   "cell_type": "code",
   "execution_count": 143,
   "id": "e0199809-3187-4d8b-8440-2438aa1e6ec9",
   "metadata": {},
   "outputs": [
    {
     "data": {
      "text/plain": [
       "(array([0, 0, 0, 1, 1, 1], dtype=int64),\n",
       " array([0, 1, 2, 0, 1, 2], dtype=int64))"
      ]
     },
     "execution_count": 143,
     "metadata": {},
     "output_type": "execute_result"
    }
   ],
   "source": [
    "np.where(a%5==0)"
   ]
  },
  {
   "cell_type": "code",
   "execution_count": 144,
   "id": "8adde1e2-d9a8-4d06-a051-fe95520d4193",
   "metadata": {},
   "outputs": [],
   "source": [
    "p=np.array([10,20,303,404,494,36])"
   ]
  },
  {
   "cell_type": "code",
   "execution_count": 145,
   "id": "76e1fd1a-8b7b-4294-9e6b-cc23f8e27621",
   "metadata": {},
   "outputs": [
    {
     "data": {
      "text/plain": [
       "array([ 10,  20, 303, 404, 494,  36])"
      ]
     },
     "execution_count": 145,
     "metadata": {},
     "output_type": "execute_result"
    }
   ],
   "source": [
    "p"
   ]
  },
  {
   "cell_type": "code",
   "execution_count": 148,
   "id": "6fe0d626-b432-4da2-877e-64dbd603d2a9",
   "metadata": {},
   "outputs": [
    {
     "data": {
      "text/plain": [
       "array([1], dtype=int64)"
      ]
     },
     "execution_count": 148,
     "metadata": {},
     "output_type": "execute_result"
    }
   ],
   "source": [
    "np.searchsorted(p,[20])"
   ]
  },
  {
   "cell_type": "code",
   "execution_count": 149,
   "id": "9988857b-5f0d-45b6-9a82-a4b83f57d1d4",
   "metadata": {},
   "outputs": [
    {
     "data": {
      "text/plain": [
       "array([1, 2], dtype=int64)"
      ]
     },
     "execution_count": 149,
     "metadata": {},
     "output_type": "execute_result"
    }
   ],
   "source": [
    "np.searchsorted(p,[20,36])"
   ]
  },
  {
   "cell_type": "code",
   "execution_count": 151,
   "id": "49be87d4-f939-4aac-8f95-018c7a10885d",
   "metadata": {},
   "outputs": [],
   "source": [
    "#add\n",
    "a=np.array([10,20,30])\n",
    "b=np.array([1,2,3])"
   ]
  },
  {
   "cell_type": "code",
   "execution_count": 153,
   "id": "3fa3a3cd-ad69-4a0a-bcc7-8ecac7274806",
   "metadata": {},
   "outputs": [
    {
     "data": {
      "text/plain": [
       "array([11, 22, 33])"
      ]
     },
     "execution_count": 153,
     "metadata": {},
     "output_type": "execute_result"
    }
   ],
   "source": [
    "np.add(a,b)"
   ]
  },
  {
   "cell_type": "code",
   "execution_count": 155,
   "id": "8dbbe0a7-63e6-4fcd-8507-36d9e616e23f",
   "metadata": {},
   "outputs": [
    {
     "data": {
      "text/plain": [
       "array([ 9, 18, 27])"
      ]
     },
     "execution_count": 155,
     "metadata": {},
     "output_type": "execute_result"
    }
   ],
   "source": [
    "np.subtract(a,b)"
   ]
  },
  {
   "cell_type": "code",
   "execution_count": 159,
   "id": "04ca6de8-5d6f-4af4-a493-dd18aed3db32",
   "metadata": {},
   "outputs": [
    {
     "data": {
      "text/plain": [
       "array([10, 40, 90])"
      ]
     },
     "execution_count": 159,
     "metadata": {},
     "output_type": "execute_result"
    }
   ],
   "source": [
    "np.multiply(a,b)"
   ]
  },
  {
   "cell_type": "code",
   "execution_count": 161,
   "id": "f73502c3-9508-44eb-96f0-a645c8c2daee",
   "metadata": {},
   "outputs": [
    {
     "data": {
      "text/plain": [
       "array([10., 10., 10.])"
      ]
     },
     "execution_count": 161,
     "metadata": {},
     "output_type": "execute_result"
    }
   ],
   "source": [
    "np.divide(a,b)"
   ]
  },
  {
   "cell_type": "code",
   "execution_count": 162,
   "id": "489d6571-3cdc-46fe-ab42-f4ace3708941",
   "metadata": {},
   "outputs": [
    {
     "data": {
      "text/plain": [
       "array([2.20264658e+04, 4.85165195e+08, 1.06864746e+13])"
      ]
     },
     "execution_count": 162,
     "metadata": {},
     "output_type": "execute_result"
    }
   ],
   "source": [
    "np.exp(a)"
   ]
  },
  {
   "cell_type": "code",
   "execution_count": 165,
   "id": "37dae916-cbaa-4f24-ab38-0bf18f38a8ed",
   "metadata": {},
   "outputs": [
    {
     "data": {
      "text/plain": [
       "array([3.16227766, 4.47213595, 5.47722558])"
      ]
     },
     "execution_count": 165,
     "metadata": {},
     "output_type": "execute_result"
    }
   ],
   "source": [
    "np.sqrt(a)"
   ]
  },
  {
   "cell_type": "code",
   "execution_count": 166,
   "id": "0b282fd3-bde6-4179-a6b5-e7d49538064d",
   "metadata": {},
   "outputs": [
    {
     "data": {
      "text/plain": [
       "array([10, 20, 30])"
      ]
     },
     "execution_count": 166,
     "metadata": {},
     "output_type": "execute_result"
    }
   ],
   "source": [
    "a"
   ]
  },
  {
   "cell_type": "code",
   "execution_count": 167,
   "id": "6205d232-52c9-49a2-be08-315866665052",
   "metadata": {},
   "outputs": [
    {
     "data": {
      "text/plain": [
       "array([1, 2, 3])"
      ]
     },
     "execution_count": 167,
     "metadata": {},
     "output_type": "execute_result"
    }
   ],
   "source": [
    "b"
   ]
  },
  {
   "cell_type": "code",
   "execution_count": 168,
   "id": "73aef303-41a9-439b-a6d9-1672988d3202",
   "metadata": {},
   "outputs": [
    {
     "data": {
      "text/plain": [
       "False"
      ]
     },
     "execution_count": 168,
     "metadata": {},
     "output_type": "execute_result"
    }
   ],
   "source": [
    "np.array_equal(a,b)"
   ]
  },
  {
   "cell_type": "code",
   "execution_count": 169,
   "id": "7bb4fd9d-a891-466a-9b9e-e944393dcb70",
   "metadata": {},
   "outputs": [
    {
     "data": {
      "text/plain": [
       "array([False, False, False])"
      ]
     },
     "execution_count": 169,
     "metadata": {},
     "output_type": "execute_result"
    }
   ],
   "source": [
    "a==b"
   ]
  },
  {
   "cell_type": "code",
   "execution_count": 184,
   "id": "ae206b7a-c773-4dda-bcc3-5ffc087bd6dc",
   "metadata": {},
   "outputs": [],
   "source": [
    "import numpy as np\n",
    "s=np.array([10,20,36,47,58])"
   ]
  },
  {
   "cell_type": "code",
   "execution_count": 185,
   "id": "64d24540-fbe7-42b7-94ce-2e3d1b460eaa",
   "metadata": {},
   "outputs": [
    {
     "data": {
      "text/plain": [
       "58"
      ]
     },
     "execution_count": 185,
     "metadata": {},
     "output_type": "execute_result"
    }
   ],
   "source": [
    "np.max(s)"
   ]
  },
  {
   "cell_type": "code",
   "execution_count": 186,
   "id": "dd4e1def-569f-44d0-9c3d-7d1a2e401187",
   "metadata": {},
   "outputs": [
    {
     "data": {
      "text/plain": [
       "10"
      ]
     },
     "execution_count": 186,
     "metadata": {},
     "output_type": "execute_result"
    }
   ],
   "source": [
    "np.min(s)"
   ]
  },
  {
   "cell_type": "code",
   "execution_count": 188,
   "id": "927658b0-6f5f-44ff-898f-8873c0b6a9d2",
   "metadata": {},
   "outputs": [
    {
     "data": {
      "text/plain": [
       "20.0"
      ]
     },
     "execution_count": 188,
     "metadata": {},
     "output_type": "execute_result"
    }
   ],
   "source": [
    "np.average(a)"
   ]
  },
  {
   "cell_type": "code",
   "execution_count": 189,
   "id": "96e52ee1-22ab-4507-94e6-1ed31f3b9893",
   "metadata": {},
   "outputs": [
    {
     "data": {
      "text/plain": [
       "20.0"
      ]
     },
     "execution_count": 189,
     "metadata": {},
     "output_type": "execute_result"
    }
   ],
   "source": [
    "np.mean(a)"
   ]
  },
  {
   "cell_type": "code",
   "execution_count": 190,
   "id": "916f94e0-5119-46f7-bf09-74b065af81a1",
   "metadata": {},
   "outputs": [
    {
     "data": {
      "text/plain": [
       "20.0"
      ]
     },
     "execution_count": 190,
     "metadata": {},
     "output_type": "execute_result"
    }
   ],
   "source": [
    "np.median(a)"
   ]
  },
  {
   "cell_type": "raw",
   "id": "77b9458c-2c31-4716-82b1-3ad578d6085c",
   "metadata": {},
   "source": [
    "np.var(a)"
   ]
  },
  {
   "cell_type": "code",
   "execution_count": 191,
   "id": "7e75b86e-5d6b-4e06-bc23-fc0e76c62159",
   "metadata": {},
   "outputs": [
    {
     "data": {
      "text/plain": [
       "8.16496580927726"
      ]
     },
     "execution_count": 191,
     "metadata": {},
     "output_type": "execute_result"
    }
   ],
   "source": [
    "np.std(a)"
   ]
  },
  {
   "cell_type": "code",
   "execution_count": null,
   "id": "3443dbf6-1257-45c7-b681-c4e68530dea1",
   "metadata": {},
   "outputs": [],
   "source": []
  }
 ],
 "metadata": {
  "kernelspec": {
   "display_name": "Python 3 (ipykernel)",
   "language": "python",
   "name": "python3"
  },
  "language_info": {
   "codemirror_mode": {
    "name": "ipython",
    "version": 3
   },
   "file_extension": ".py",
   "mimetype": "text/x-python",
   "name": "python",
   "nbconvert_exporter": "python",
   "pygments_lexer": "ipython3",
   "version": "3.11.7"
  }
 },
 "nbformat": 4,
 "nbformat_minor": 5
}
