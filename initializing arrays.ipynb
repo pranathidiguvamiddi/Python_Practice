{
 "cells": [
  {
   "cell_type": "code",
   "execution_count": 2,
   "id": "dd4725db-c070-48ff-ac05-9c1dc60a87b6",
   "metadata": {},
   "outputs": [],
   "source": [
    "import numpy as np"
   ]
  },
  {
   "cell_type": "code",
   "execution_count": 3,
   "id": "8b2eeba4-a33b-441d-90b1-834a809cfd5f",
   "metadata": {},
   "outputs": [],
   "source": [
    "#initializing Arrays\n",
    "#zeros\n",
    "a=np.zeros(3)"
   ]
  },
  {
   "cell_type": "code",
   "execution_count": 4,
   "id": "a5620486-042c-4d92-8fa5-42d1b77fec5c",
   "metadata": {},
   "outputs": [
    {
     "name": "stdout",
     "output_type": "stream",
     "text": [
      "[0. 0. 0.]\n"
     ]
    }
   ],
   "source": [
    "print(a)"
   ]
  },
  {
   "cell_type": "code",
   "execution_count": 17,
   "id": "dea0d71d-1529-4f9f-bd05-a0edb8effe5a",
   "metadata": {},
   "outputs": [
    {
     "data": {
      "text/plain": [
       "array([[[0., 0., 0.],\n",
       "        [0., 0., 0.],\n",
       "        [0., 0., 0.],\n",
       "        [0., 0., 0.]],\n",
       "\n",
       "       [[0., 0., 0.],\n",
       "        [0., 0., 0.],\n",
       "        [0., 0., 0.],\n",
       "        [0., 0., 0.]]])"
      ]
     },
     "execution_count": 17,
     "metadata": {},
     "output_type": "execute_result"
    }
   ],
   "source": [
    "np.zeros([2,4,3])\n"
   ]
  },
  {
   "cell_type": "code",
   "execution_count": 18,
   "id": "961e2569-ca12-4cf6-911f-1b1623b94b2f",
   "metadata": {},
   "outputs": [
    {
     "data": {
      "text/plain": [
       "array([[1, 1, 1],\n",
       "       [1, 1, 1]])"
      ]
     },
     "execution_count": 18,
     "metadata": {},
     "output_type": "execute_result"
    }
   ],
   "source": [
    "#full\n",
    "np.full([2,3],1)"
   ]
  },
  {
   "cell_type": "code",
   "execution_count": 19,
   "id": "917b61f8-5b9e-49d5-b221-252d7fa5c915",
   "metadata": {},
   "outputs": [
    {
     "data": {
      "text/plain": [
       "array([[[21, 21, 21, 21],\n",
       "        [21, 21, 21, 21],\n",
       "        [21, 21, 21, 21]],\n",
       "\n",
       "       [[21, 21, 21, 21],\n",
       "        [21, 21, 21, 21],\n",
       "        [21, 21, 21, 21]]])"
      ]
     },
     "execution_count": 19,
     "metadata": {},
     "output_type": "execute_result"
    }
   ],
   "source": [
    "np.full([2,3,4],21)"
   ]
  },
  {
   "cell_type": "code",
   "execution_count": 22,
   "id": "69af4896-0675-4f1c-a2ff-3ccdc074a311",
   "metadata": {},
   "outputs": [
    {
     "data": {
      "text/plain": [
       "array([[[0.08175206, 0.06728604],\n",
       "        [0.94944898, 0.06458861],\n",
       "        [0.62678774, 0.64746055]],\n",
       "\n",
       "       [[0.71388386, 0.80885744],\n",
       "        [0.4522357 , 0.23687798],\n",
       "        [0.93979153, 0.99723786]]])"
      ]
     },
     "execution_count": 22,
     "metadata": {},
     "output_type": "execute_result"
    }
   ],
   "source": [
    "#random.rand\n",
    "np.random.rand(2,3,2)"
   ]
  },
  {
   "cell_type": "code",
   "execution_count": 26,
   "id": "d4ee42f6-073f-4702-a4e8-2c4ed227f09b",
   "metadata": {},
   "outputs": [
    {
     "data": {
      "text/plain": [
       "array([[1., 1., 1.],\n",
       "       [1., 1., 1.]])"
      ]
     },
     "execution_count": 26,
     "metadata": {},
     "output_type": "execute_result"
    }
   ],
   "source": [
    "#onces\n",
    "np.ones ([2,3])"
   ]
  },
  {
   "cell_type": "code",
   "execution_count": 27,
   "id": "73c81ea3-1082-4967-8465-87d4971af302",
   "metadata": {},
   "outputs": [
    {
     "data": {
      "text/plain": [
       "array([[[1., 1., 1., 1.],\n",
       "        [1., 1., 1., 1.],\n",
       "        [1., 1., 1., 1.]],\n",
       "\n",
       "       [[1., 1., 1., 1.],\n",
       "        [1., 1., 1., 1.],\n",
       "        [1., 1., 1., 1.]]])"
      ]
     },
     "execution_count": 27,
     "metadata": {},
     "output_type": "execute_result"
    }
   ],
   "source": [
    "np.ones([2,3,4])"
   ]
  },
  {
   "cell_type": "code",
   "execution_count": 34,
   "id": "ab81f3cc-fa8c-43cc-b893-648416b4db21",
   "metadata": {},
   "outputs": [
    {
     "data": {
      "text/plain": [
       "array([[1., 0., 0.],\n",
       "       [0., 1., 0.],\n",
       "       [0., 0., 1.]])"
      ]
     },
     "execution_count": 34,
     "metadata": {},
     "output_type": "execute_result"
    }
   ],
   "source": [
    "#eye\n",
    "np.eye(3,3)"
   ]
  },
  {
   "cell_type": "code",
   "execution_count": 35,
   "id": "c79119dc-1415-48ec-9ad8-00dc2e70b405",
   "metadata": {},
   "outputs": [
    {
     "data": {
      "text/plain": [
       "array([[1., 0., 0., 0., 0.],\n",
       "       [0., 1., 0., 0., 0.],\n",
       "       [0., 0., 1., 0., 0.]])"
      ]
     },
     "execution_count": 35,
     "metadata": {},
     "output_type": "execute_result"
    }
   ],
   "source": [
    "np.eye(3,5)"
   ]
  },
  {
   "cell_type": "code",
   "execution_count": 2,
   "id": "eb669c47-8819-4542-9667-ed46d5a2bad9",
   "metadata": {},
   "outputs": [],
   "source": [
    "import numpy as np"
   ]
  },
  {
   "cell_type": "code",
   "execution_count": 3,
   "id": "0163027e-fccd-431a-aaf2-bfa87458a648",
   "metadata": {},
   "outputs": [],
   "source": [
    "#Numerical Ranges\n",
    "a=np.arange(20,29,1)"
   ]
  },
  {
   "cell_type": "code",
   "execution_count": 4,
   "id": "e3366e20-7b3a-4fcd-9f31-af890ad9c01a",
   "metadata": {},
   "outputs": [
    {
     "name": "stdout",
     "output_type": "stream",
     "text": [
      "[20 21 22 23 24 25 26 27 28]\n"
     ]
    }
   ],
   "source": [
    "print(a)"
   ]
  },
  {
   "cell_type": "code",
   "execution_count": null,
   "id": "c2bcff35-f652-4e90-8045-84aeff8b0047",
   "metadata": {},
   "outputs": [],
   "source": []
  }
 ],
 "metadata": {
  "kernelspec": {
   "display_name": "Python 3 (ipykernel)",
   "language": "python",
   "name": "python3"
  },
  "language_info": {
   "codemirror_mode": {
    "name": "ipython",
    "version": 3
   },
   "file_extension": ".py",
   "mimetype": "text/x-python",
   "name": "python",
   "nbconvert_exporter": "python",
   "pygments_lexer": "ipython3",
   "version": "3.11.7"
  }
 },
 "nbformat": 4,
 "nbformat_minor": 5
}
