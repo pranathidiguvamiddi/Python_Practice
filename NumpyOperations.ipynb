{
 "cells": [
  {
   "cell_type": "code",
   "execution_count": 1,
   "id": "c4284b62-c482-444c-b053-fba7b5d0f5db",
   "metadata": {},
   "outputs": [],
   "source": [
    "import numpy as np"
   ]
  },
  {
   "cell_type": "code",
   "execution_count": 32,
   "id": "34f6a41d-74ed-44fd-9c2c-c8572b52411b",
   "metadata": {},
   "outputs": [],
   "source": [
    "P=np.array(([1, 2, 3],[1,2,3]))"
   ]
  },
  {
   "cell_type": "code",
   "execution_count": 4,
   "id": "ff1e8def-ea86-4548-87fd-6e880128bb5e",
   "metadata": {},
   "outputs": [
    {
     "data": {
      "text/plain": [
       "array([1, 2, 3])"
      ]
     },
     "execution_count": 4,
     "metadata": {},
     "output_type": "execute_result"
    }
   ],
   "source": [
    "P"
   ]
  },
  {
   "cell_type": "code",
   "execution_count": 13,
   "id": "5a7227d2-5950-400d-8c70-739420dbba68",
   "metadata": {},
   "outputs": [
    {
     "data": {
      "text/plain": [
       "array([], shape=(0, 1), dtype=float64)"
      ]
     },
     "execution_count": 13,
     "metadata": {},
     "output_type": "execute_result"
    }
   ],
   "source": [
    "np.zeros((0,1))"
   ]
  },
  {
   "cell_type": "code",
   "execution_count": 14,
   "id": "986f3a97-ffde-4608-b095-798e0c907ea9",
   "metadata": {},
   "outputs": [
    {
     "data": {
      "text/plain": [
       "array([[1., 1., 1., 1.],\n",
       "       [1., 1., 1., 1.],\n",
       "       [1., 1., 1., 1.]])"
      ]
     },
     "execution_count": 14,
     "metadata": {},
     "output_type": "execute_result"
    }
   ],
   "source": [
    "np.ones((3, 4))"
   ]
  },
  {
   "cell_type": "code",
   "execution_count": 15,
   "id": "9743d3da-c0a8-4a7c-8934-db44df2dded1",
   "metadata": {},
   "outputs": [
    {
     "data": {
      "text/plain": [
       "array([[7, 7, 7, 7],\n",
       "       [7, 7, 7, 7],\n",
       "       [7, 7, 7, 7]])"
      ]
     },
     "execution_count": 15,
     "metadata": {},
     "output_type": "execute_result"
    }
   ],
   "source": [
    "np.full((3, 4), 7)"
   ]
  },
  {
   "cell_type": "code",
   "execution_count": 16,
   "id": "3782c8a3-7b0a-4039-9e76-f4237b9f5ca6",
   "metadata": {},
   "outputs": [
    {
     "data": {
      "text/plain": [
       "array([[1., 0., 0.],\n",
       "       [0., 1., 0.],\n",
       "       [0., 0., 1.]])"
      ]
     },
     "execution_count": 16,
     "metadata": {},
     "output_type": "execute_result"
    }
   ],
   "source": [
    "np.eye(3)"
   ]
  },
  {
   "cell_type": "code",
   "execution_count": 17,
   "id": "abbd1802-dc64-4e57-bcd7-5e0a151bbb28",
   "metadata": {},
   "outputs": [
    {
     "data": {
      "text/plain": [
       "array([0, 2, 4, 6, 8])"
      ]
     },
     "execution_count": 17,
     "metadata": {},
     "output_type": "execute_result"
    }
   ],
   "source": [
    "np.arange(0, 10, 2)"
   ]
  },
  {
   "cell_type": "code",
   "execution_count": 18,
   "id": "a7cac9a8-1f08-4fe8-b3a4-8294b6d78dad",
   "metadata": {},
   "outputs": [
    {
     "data": {
      "text/plain": [
       "array([0.  , 0.25, 0.5 , 0.75, 1.  ])"
      ]
     },
     "execution_count": 18,
     "metadata": {},
     "output_type": "execute_result"
    }
   ],
   "source": [
    "np.linspace(0, 1, 5)"
   ]
  },
  {
   "cell_type": "code",
   "execution_count": 19,
   "id": "cad9d9f5-8672-4ab5-9fbd-8b05c47d2e19",
   "metadata": {},
   "outputs": [
    {
     "data": {
      "text/plain": [
       "array([[0.16229639, 0.83039626, 0.72813758, 0.01087517],\n",
       "       [0.67153359, 0.05007111, 0.78579684, 0.51989782],\n",
       "       [0.93633292, 0.41109304, 0.97169158, 0.92079259]])"
      ]
     },
     "execution_count": 19,
     "metadata": {},
     "output_type": "execute_result"
    }
   ],
   "source": [
    "np.random.rand(3, 4)"
   ]
  },
  {
   "cell_type": "code",
   "execution_count": 20,
   "id": "a42a7e58-18a4-4e38-9c6c-dca50906290f",
   "metadata": {},
   "outputs": [
    {
     "data": {
      "text/plain": [
       "array([[ 2.01617618,  0.06459696, -0.42054111, -0.47853557],\n",
       "       [ 0.25213187,  0.31482859, -0.45707842, -1.60981041],\n",
       "       [-0.23265753,  0.56389757, -1.36239706, -0.74756897]])"
      ]
     },
     "execution_count": 20,
     "metadata": {},
     "output_type": "execute_result"
    }
   ],
   "source": [
    "np.random.randn(3, 4)"
   ]
  },
  {
   "cell_type": "code",
   "execution_count": 21,
   "id": "6118f940-f619-4323-a279-c58626b9cab3",
   "metadata": {},
   "outputs": [
    {
     "data": {
      "text/plain": [
       "<function RandomState.randint>"
      ]
     },
     "execution_count": 21,
     "metadata": {},
     "output_type": "execute_result"
    }
   ],
   "source": [
    "np.random.randint"
   ]
  },
  {
   "cell_type": "code",
   "execution_count": 24,
   "id": "dda66792-4c19-4e82-a99f-22068d5b3172",
   "metadata": {},
   "outputs": [
    {
     "data": {
      "text/plain": [
       "(3,)"
      ]
     },
     "execution_count": 24,
     "metadata": {},
     "output_type": "execute_result"
    }
   ],
   "source": [
    "P.shape"
   ]
  },
  {
   "cell_type": "code",
   "execution_count": 25,
   "id": "1d04ce29-4ae5-49ec-a371-52c7b104c0e1",
   "metadata": {},
   "outputs": [
    {
     "data": {
      "text/plain": [
       "3"
      ]
     },
     "execution_count": 25,
     "metadata": {},
     "output_type": "execute_result"
    }
   ],
   "source": [
    "P.size"
   ]
  },
  {
   "cell_type": "code",
   "execution_count": 26,
   "id": "00a4cbad-6646-4a80-bb64-08b49955cf05",
   "metadata": {},
   "outputs": [
    {
     "data": {
      "text/plain": [
       "1"
      ]
     },
     "execution_count": 26,
     "metadata": {},
     "output_type": "execute_result"
    }
   ],
   "source": [
    "P.ndim"
   ]
  },
  {
   "cell_type": "code",
   "execution_count": 27,
   "id": "ff4a6763-f188-4d3c-8a6c-69bddf6523f9",
   "metadata": {},
   "outputs": [
    {
     "data": {
      "text/plain": [
       "dtype('int32')"
      ]
     },
     "execution_count": 27,
     "metadata": {},
     "output_type": "execute_result"
    }
   ],
   "source": [
    "P.dtype"
   ]
  },
  {
   "cell_type": "code",
   "execution_count": 33,
   "id": "dad46c30-a869-46c0-bcc6-f8758ed0dc1f",
   "metadata": {},
   "outputs": [
    {
     "data": {
      "text/plain": [
       "array([[1, 2, 3],\n",
       "       [1, 2, 3]])"
      ]
     },
     "execution_count": 33,
     "metadata": {},
     "output_type": "execute_result"
    }
   ],
   "source": [
    "P.reshape((2,3))"
   ]
  },
  {
   "cell_type": "code",
   "execution_count": 34,
   "id": "dfbf1b44-32fd-4a00-99df-382cf01ec373",
   "metadata": {},
   "outputs": [
    {
     "data": {
      "text/plain": [
       "array([1, 2, 3, 1, 2, 3])"
      ]
     },
     "execution_count": 34,
     "metadata": {},
     "output_type": "execute_result"
    }
   ],
   "source": [
    "P.flatten()"
   ]
  },
  {
   "cell_type": "code",
   "execution_count": 39,
   "id": "328e750c-a9af-4c1f-92b1-b94092dd1a51",
   "metadata": {},
   "outputs": [
    {
     "data": {
      "text/plain": [
       "2"
      ]
     },
     "execution_count": 39,
     "metadata": {},
     "output_type": "execute_result"
    }
   ],
   "source": [
    "P[0, 1]#Access elements.\n"
   ]
  },
  {
   "cell_type": "code",
   "execution_count": 41,
   "id": "054c174e-f986-4496-9f57-cdae7d288193",
   "metadata": {},
   "outputs": [
    {
     "data": {
      "text/plain": [
       "array([2, 2])"
      ]
     },
     "execution_count": 41,
     "metadata": {},
     "output_type": "execute_result"
    }
   ],
   "source": [
    "P[:, 1] #Slice arrays.\n"
   ]
  },
  {
   "cell_type": "code",
   "execution_count": 42,
   "id": "ab8c3b64-5682-4004-ac10-1afea8a33c09",
   "metadata": {},
   "outputs": [
    {
     "data": {
      "text/plain": [
       "array([[1, 2, 3]])"
      ]
     },
     "execution_count": 42,
     "metadata": {},
     "output_type": "execute_result"
    }
   ],
   "source": [
    "P[1:3, :] #Slice with ranges."
   ]
  },
  {
   "cell_type": "code",
   "execution_count": 45,
   "id": "aefd87c4-13a5-468f-ab26-f6dd5d7ca5d8",
   "metadata": {},
   "outputs": [],
   "source": [
    "R=np.array([1,3,5])"
   ]
  },
  {
   "cell_type": "code",
   "execution_count": 46,
   "id": "8218bd31-cd6c-46f9-9c1a-4d36b85acf9b",
   "metadata": {},
   "outputs": [
    {
     "data": {
      "text/plain": [
       "array([1, 3, 5])"
      ]
     },
     "execution_count": 46,
     "metadata": {},
     "output_type": "execute_result"
    }
   ],
   "source": [
    "R"
   ]
  },
  {
   "cell_type": "code",
   "execution_count": 50,
   "id": "0796ec5f-38aa-4c90-9611-6e3d513b7826",
   "metadata": {},
   "outputs": [
    {
     "name": "stdout",
     "output_type": "stream",
     "text": [
      "[[2 5 8]\n",
      " [2 5 8]]\n"
     ]
    }
   ],
   "source": [
    "print(P+R)"
   ]
  },
  {
   "cell_type": "code",
   "execution_count": 51,
   "id": "520446d5-a74f-457c-93f4-5f28a0378e6b",
   "metadata": {},
   "outputs": [
    {
     "data": {
      "text/plain": [
       "array([[ 0, -1, -2],\n",
       "       [ 0, -1, -2]])"
      ]
     },
     "execution_count": 51,
     "metadata": {},
     "output_type": "execute_result"
    }
   ],
   "source": [
    "P-R"
   ]
  },
  {
   "cell_type": "code",
   "execution_count": 52,
   "id": "54a10e84-4b31-4aeb-ac24-3b21156606ee",
   "metadata": {},
   "outputs": [
    {
     "data": {
      "text/plain": [
       "array([[ 1,  6, 15],\n",
       "       [ 1,  6, 15]])"
      ]
     },
     "execution_count": 52,
     "metadata": {},
     "output_type": "execute_result"
    }
   ],
   "source": [
    "P*R"
   ]
  },
  {
   "cell_type": "code",
   "execution_count": 53,
   "id": "782171a1-8da7-42ef-b950-67f357196e3e",
   "metadata": {},
   "outputs": [
    {
     "data": {
      "text/plain": [
       "array([[0, 2, 3],\n",
       "       [0, 2, 3]])"
      ]
     },
     "execution_count": 53,
     "metadata": {},
     "output_type": "execute_result"
    }
   ],
   "source": [
    "P%R"
   ]
  },
  {
   "cell_type": "code",
   "execution_count": 54,
   "id": "1ffe609b-4874-41ad-9bbf-e35c191f47b2",
   "metadata": {},
   "outputs": [
    {
     "data": {
      "text/plain": [
       "array([[1.        , 0.66666667, 0.6       ],\n",
       "       [1.        , 0.66666667, 0.6       ]])"
      ]
     },
     "execution_count": 54,
     "metadata": {},
     "output_type": "execute_result"
    }
   ],
   "source": [
    "P/R"
   ]
  },
  {
   "cell_type": "code",
   "execution_count": 55,
   "id": "5fa1fc54-701e-45ac-ab27-5bd57d8e8de5",
   "metadata": {},
   "outputs": [
    {
     "data": {
      "text/plain": [
       "array([[1, 4, 9],\n",
       "       [1, 4, 9]])"
      ]
     },
     "execution_count": 55,
     "metadata": {},
     "output_type": "execute_result"
    }
   ],
   "source": [
    "P**2"
   ]
  },
  {
   "cell_type": "code",
   "execution_count": 57,
   "id": "b4ff5e13-0cb2-49b6-976b-972bb1b39a34",
   "metadata": {},
   "outputs": [
    {
     "data": {
      "text/plain": [
       "array([[1.        , 1.41421356, 1.73205081],\n",
       "       [1.        , 1.41421356, 1.73205081]])"
      ]
     },
     "execution_count": 57,
     "metadata": {},
     "output_type": "execute_result"
    }
   ],
   "source": [
    "np.sqrt(P)"
   ]
  },
  {
   "cell_type": "code",
   "execution_count": 58,
   "id": "bef0ea3d-fe41-44a3-8038-762f7732d860",
   "metadata": {},
   "outputs": [
    {
     "data": {
      "text/plain": [
       "array([  2.71828183,  20.08553692, 148.4131591 ])"
      ]
     },
     "execution_count": 58,
     "metadata": {},
     "output_type": "execute_result"
    }
   ],
   "source": [
    "np.exp(R)"
   ]
  },
  {
   "cell_type": "code",
   "execution_count": 59,
   "id": "e5fcabc2-0765-41da-8b64-5ec007f95eb2",
   "metadata": {},
   "outputs": [
    {
     "data": {
      "text/plain": [
       "array([[0.        , 0.69314718, 1.09861229],\n",
       "       [0.        , 0.69314718, 1.09861229]])"
      ]
     },
     "execution_count": 59,
     "metadata": {},
     "output_type": "execute_result"
    }
   ],
   "source": [
    "np.log(P)"
   ]
  },
  {
   "cell_type": "code",
   "execution_count": 60,
   "id": "f1385d8b-cfbd-4bf8-9a46-76b58316b851",
   "metadata": {},
   "outputs": [],
   "source": [
    "#aggregation functions "
   ]
  },
  {
   "cell_type": "code",
   "execution_count": 67,
   "id": "0f260783-66c4-49c5-81e4-fb6755404b0e",
   "metadata": {},
   "outputs": [
    {
     "data": {
      "text/plain": [
       "30"
      ]
     },
     "execution_count": 67,
     "metadata": {},
     "output_type": "execute_result"
    }
   ],
   "source": [
    "import numpy as np\n",
    "np.sum([P+R])"
   ]
  },
  {
   "cell_type": "code",
   "execution_count": 69,
   "id": "1b1276ed-7e9b-40fb-9231-655fc5bf5a5b",
   "metadata": {},
   "outputs": [
    {
     "data": {
      "text/plain": [
       "30"
      ]
     },
     "execution_count": 69,
     "metadata": {},
     "output_type": "execute_result"
    }
   ],
   "source": [
    "np.sum([P+R])"
   ]
  },
  {
   "cell_type": "code",
   "execution_count": 76,
   "id": "a370b0d1-9e1f-47b4-a3cd-18af457c312b",
   "metadata": {},
   "outputs": [
    {
     "data": {
      "text/plain": [
       "2.0"
      ]
     },
     "execution_count": 76,
     "metadata": {},
     "output_type": "execute_result"
    }
   ],
   "source": [
    "np.median([[P]])"
   ]
  },
  {
   "cell_type": "code",
   "execution_count": 79,
   "id": "72cbca03-d5a2-43ba-8dad-6d6ca9d22f99",
   "metadata": {},
   "outputs": [
    {
     "data": {
      "text/plain": [
       "1.632993161855452"
      ]
     },
     "execution_count": 79,
     "metadata": {},
     "output_type": "execute_result"
    }
   ],
   "source": [
    "np.std([R])"
   ]
  },
  {
   "cell_type": "code",
   "execution_count": 80,
   "id": "42bda819-166d-4c16-b62e-0b2279bb3535",
   "metadata": {},
   "outputs": [
    {
     "data": {
      "text/plain": [
       "0.6666666666666666"
      ]
     },
     "execution_count": 80,
     "metadata": {},
     "output_type": "execute_result"
    }
   ],
   "source": [
    "np.var(P)"
   ]
  },
  {
   "cell_type": "code",
   "execution_count": 85,
   "id": "dad77240-3110-4501-b92c-4156a66cbf79",
   "metadata": {},
   "outputs": [
    {
     "data": {
      "text/plain": [
       "1"
      ]
     },
     "execution_count": 85,
     "metadata": {},
     "output_type": "execute_result"
    }
   ],
   "source": [
    "np.min(R)"
   ]
  },
  {
   "cell_type": "code",
   "execution_count": 86,
   "id": "1de5d1e8-75f1-4dfb-8d84-808b7f6d61d3",
   "metadata": {},
   "outputs": [
    {
     "data": {
      "text/plain": [
       "5"
      ]
     },
     "execution_count": 86,
     "metadata": {},
     "output_type": "execute_result"
    }
   ],
   "source": [
    "np.max(R)"
   ]
  },
  {
   "cell_type": "code",
   "execution_count": 88,
   "id": "cccc9e99-de6a-4717-b654-bdffd2dd502c",
   "metadata": {},
   "outputs": [
    {
     "data": {
      "text/plain": [
       "0"
      ]
     },
     "execution_count": 88,
     "metadata": {},
     "output_type": "execute_result"
    }
   ],
   "source": [
    "np.argmin(P)"
   ]
  },
  {
   "cell_type": "code",
   "execution_count": 91,
   "id": "ca1c8c02-1808-4d0e-82db-0ba0912e328d",
   "metadata": {},
   "outputs": [
    {
     "data": {
      "text/plain": [
       "2"
      ]
     },
     "execution_count": 91,
     "metadata": {},
     "output_type": "execute_result"
    }
   ],
   "source": [
    "np.argmax(P)"
   ]
  },
  {
   "cell_type": "code",
   "execution_count": 90,
   "id": "14234fe5-df02-41e6-9d77-6bc887660ed6",
   "metadata": {},
   "outputs": [
    {
     "data": {
      "text/plain": [
       "array([[1, 2, 3],\n",
       "       [1, 2, 3]])"
      ]
     },
     "execution_count": 90,
     "metadata": {},
     "output_type": "execute_result"
    }
   ],
   "source": [
    "P"
   ]
  },
  {
   "cell_type": "code",
   "execution_count": 92,
   "id": "1c82a2bc-800e-4afc-9863-97f76338d3a9",
   "metadata": {},
   "outputs": [],
   "source": [
    "#linear algebra"
   ]
  },
  {
   "cell_type": "code",
   "execution_count": 93,
   "id": "a9956747-ea4b-4378-93cb-df217b4c95db",
   "metadata": {},
   "outputs": [
    {
     "data": {
      "text/plain": [
       "array([22, 22])"
      ]
     },
     "execution_count": 93,
     "metadata": {},
     "output_type": "execute_result"
    }
   ],
   "source": [
    "np.dot(P,R)"
   ]
  },
  {
   "cell_type": "code",
   "execution_count": 94,
   "id": "cb4e2a62-227e-45de-8e78-54f9e85e35fa",
   "metadata": {},
   "outputs": [
    {
     "data": {
      "text/plain": [
       "array([22, 22])"
      ]
     },
     "execution_count": 94,
     "metadata": {},
     "output_type": "execute_result"
    }
   ],
   "source": [
    "np.matmul(P,R)"
   ]
  },
  {
   "cell_type": "code",
   "execution_count": 100,
   "id": "323a6c37-56d2-479c-aef0-7ef9d354ea77",
   "metadata": {},
   "outputs": [
    {
     "data": {
      "text/plain": [
       "array([[4, 5, 6],\n",
       "       [4, 5, 6]])"
      ]
     },
     "execution_count": 100,
     "metadata": {},
     "output_type": "execute_result"
    }
   ],
   "source": [
    "P+3"
   ]
  },
  {
   "cell_type": "code",
   "execution_count": null,
   "id": "25c378ee-c445-42b5-be73-fec8706b6e03",
   "metadata": {},
   "outputs": [],
   "source": [
    "P([P>1])#boolean type"
   ]
  },
  {
   "cell_type": "code",
   "execution_count": null,
   "id": "4c6fa9e8-5799-4142-a1e4-763e93a5aa9c",
   "metadata": {},
   "outputs": [],
   "source": [
    "P.copy([\"R\"])"
   ]
  },
  {
   "cell_type": "code",
   "execution_count": 110,
   "id": "fdc8b847-58bf-4c80-95fc-bdfc76b5e0f1",
   "metadata": {},
   "outputs": [
    {
     "data": {
      "text/plain": [
       "array([[1, 3, 5]])"
      ]
     },
     "execution_count": 110,
     "metadata": {},
     "output_type": "execute_result"
    }
   ],
   "source": [
    "np.sort([R])"
   ]
  },
  {
   "cell_type": "code",
   "execution_count": 112,
   "id": "4fc86a59-f7ab-41d8-b848-72066b80444a",
   "metadata": {},
   "outputs": [
    {
     "data": {
      "text/plain": [
       "array([0, 1, 2], dtype=int64)"
      ]
     },
     "execution_count": 112,
     "metadata": {},
     "output_type": "execute_result"
    }
   ],
   "source": [
    "np.argsort(R)"
   ]
  },
  {
   "cell_type": "code",
   "execution_count": 130,
   "id": "5b6a0827-07f1-4639-9682-40abb913573f",
   "metadata": {},
   "outputs": [
    {
     "data": {
      "text/plain": [
       "array([[1],\n",
       "       [3],\n",
       "       [5]])"
      ]
     },
     "execution_count": 130,
     "metadata": {},
     "output_type": "execute_result"
    }
   ],
   "source": [
    "np.vstack((R))"
   ]
  },
  {
   "cell_type": "code",
   "execution_count": 131,
   "id": "121568de-bc0b-456a-b70c-e1dc2d9514dc",
   "metadata": {},
   "outputs": [
    {
     "data": {
      "text/plain": [
       "array([[1, 2, 3],\n",
       "       [1, 2, 3]])"
      ]
     },
     "execution_count": 131,
     "metadata": {},
     "output_type": "execute_result"
    }
   ],
   "source": [
    "np.vstack(P)"
   ]
  },
  {
   "cell_type": "code",
   "execution_count": 132,
   "id": "9224ee3f-ab4e-497c-a5a5-9c390603368a",
   "metadata": {},
   "outputs": [
    {
     "data": {
      "text/plain": [
       "array([1, 2, 3, 1, 2, 3])"
      ]
     },
     "execution_count": 132,
     "metadata": {},
     "output_type": "execute_result"
    }
   ],
   "source": [
    "np.hstack(P)"
   ]
  },
  {
   "cell_type": "code",
   "execution_count": 133,
   "id": "4e38d711-7c63-48a1-b936-10e06056147d",
   "metadata": {},
   "outputs": [
    {
     "data": {
      "text/plain": [
       "array([1, 3, 5])"
      ]
     },
     "execution_count": 133,
     "metadata": {},
     "output_type": "execute_result"
    }
   ],
   "source": [
    "np.hstack(R)"
   ]
  },
  {
   "cell_type": "code",
   "execution_count": 139,
   "id": "6da6585d-f835-4af4-82df-3fa6569334ee",
   "metadata": {},
   "outputs": [
    {
     "data": {
      "text/plain": [
       "array([2, 5, 8, 2, 5, 8])"
      ]
     },
     "execution_count": 139,
     "metadata": {},
     "output_type": "execute_result"
    }
   ],
   "source": [
    "np.concatenate((R+P))"
   ]
  },
  {
   "cell_type": "code",
   "execution_count": null,
   "id": "b0414caf-2c5a-4f78-aad0-a76d2d4d9136",
   "metadata": {},
   "outputs": [],
   "source": [
    "np.split(R,2)"
   ]
  },
  {
   "cell_type": "code",
   "execution_count": null,
   "id": "4272db5b-c643-4255-8060-91efde9ec610",
   "metadata": {},
   "outputs": [],
   "source": [
    "np.array_split(arr, 3)"
   ]
  },
  {
   "cell_type": "code",
   "execution_count": null,
   "id": "f4987693-7e31-4061-9dc1-397b881a1e65",
   "metadata": {},
   "outputs": [],
   "source": [
    "np.tile(arr, (2, 3))"
   ]
  },
  {
   "cell_type": "code",
   "execution_count": null,
   "id": "7c3951df-113c-47b0-b6f9-6f05f481c153",
   "metadata": {},
   "outputs": [],
   "source": [
    "np.repeat(arr, 3)"
   ]
  },
  {
   "cell_type": "code",
   "execution_count": null,
   "id": "c04c5090-21db-4111-b620-7579fd052f20",
   "metadata": {},
   "outputs": [],
   "source": [
    "np.unique(arr)"
   ]
  },
  {
   "cell_type": "code",
   "execution_count": 141,
   "id": "105afdbb-0779-48f6-9df2-a42774782a8b",
   "metadata": {},
   "outputs": [
    {
     "data": {
      "text/plain": [
       "array([1, 3, 5])"
      ]
     },
     "execution_count": 141,
     "metadata": {},
     "output_type": "execute_result"
    }
   ],
   "source": [
    "R.T"
   ]
  },
  {
   "cell_type": "code",
   "execution_count": 142,
   "id": "f10c5c2d-3fe9-47cb-9892-532a8cdde975",
   "metadata": {},
   "outputs": [
    {
     "data": {
      "text/plain": [
       "array([1, 3, 5])"
      ]
     },
     "execution_count": 142,
     "metadata": {},
     "output_type": "execute_result"
    }
   ],
   "source": [
    "np.transpose(R)"
   ]
  },
  {
   "cell_type": "code",
   "execution_count": null,
   "id": "c742d827-0db5-4fff-ba5f-252be2de6847",
   "metadata": {},
   "outputs": [],
   "source": []
  }
 ],
 "metadata": {
  "kernelspec": {
   "display_name": "Python 3 (ipykernel)",
   "language": "python",
   "name": "python3"
  },
  "language_info": {
   "codemirror_mode": {
    "name": "ipython",
    "version": 3
   },
   "file_extension": ".py",
   "mimetype": "text/x-python",
   "name": "python",
   "nbconvert_exporter": "python",
   "pygments_lexer": "ipython3",
   "version": "3.11.7"
  }
 },
 "nbformat": 4,
 "nbformat_minor": 5
}
