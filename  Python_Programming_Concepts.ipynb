{
 "cells": [
  {
   "cell_type": "code",
   "execution_count": null,
   "id": "0d15b119-345a-4e06-8188-028fc2fba1a8",
   "metadata": {},
   "outputs": [],
   "source": [
    "#Introduction to Python & Setup (3 Marks)Task 1: Understanding Programming Languages and Python\n",
    "Python is a popular choice among developers due to its simplicity, readability, and versatility. It has an easy-to-understand syntax that mimics human language, making it an excellent starting point for beginners and a powerful tool for experienced programmers. Python supports multiple\n",
    "Programming languages are essential in software development as they serve as the medium for instructing computers to perform specific tasks. They enable developers to write algorithms and manipulate data to create software applications, websites, games, and more. By providing a structured way to communicate with computers, programming languages transform complex logic into executable programs that solve real-world problems. Each programming language has unique features and strengths, catering to different development needs—ranging from low-level languages like C for system programming to high-level languages like JavaScript for web development."
   ]
  },
  {
   "cell_type": "code",
   "execution_count": null,
   "id": "5d656aff-4714-436c-aa90-ec081f51e573",
   "metadata": {},
   "outputs": [],
   "source": [
    "# Installing Anaconda and Jupyter Notebook\n",
    "To install Anaconda and set up Jupyter Notebook, first, download the Anaconda installer from the [official Anaconda website](https://www.anaconda.com/). Run the installer and follow the on-screen instructions, choosing options like agreeing to the license, selecting the installation path, and registering Anaconda as the default Python. After the installation is complete, open \"Anaconda Navigator\" from the Start menu and launch \"Jupyter Notebook\" from there. In Jupyter Notebook, create a new notebook by clicking on \"New\" and selecting \"Python 3.\" To confirm the setup, write a simple Python code, such as `print(\"Hello, Anaconda and Jupyter Notebook!\")`, and run it by pressing \"Shift + Enter.\" If the output displays correctly, your installation is successful."
   ]
  },
  {
   "cell_type": "code",
   "execution_count": null,
   "id": "a7b946d4-9593-41b2-9449-acd103afbe55",
   "metadata": {},
   "outputs": [],
   "source": [
    "#Basic Python Syntax and Data Type\n",
    "The Python script demonstrates basic syntax, including comments, print statements, and mathematical operations. Comments in Python start with `#` and are used to add explanations that the interpreter ignores. The `print()` function is used to display output, such as the welcome message \"Welcome to Basic Python Syntax and Operations!\" and the results of mathematical operations. Variables `a` and `b` are assigned values of 10 and 5, respectively. The script then performs basic mathematical operations: addition (`a + b`), subtraction (`a - b`), multiplication (`a * b`), and division (`a / b`), printing the results of each operation. This script provides a simple example of Python's basic syntax and arithmetic capabilities."
   ]
  },
  {
   "cell_type": "code",
   "execution_count": 20,
   "id": "1b08fa54-c38e-45ff-8cf3-f1858252e94c",
   "metadata": {},
   "outputs": [
    {
     "name": "stdout",
     "output_type": "stream",
     "text": [
      "Value of integer_var: 42 and its type: <class 'int'>\n",
      "Value of float_var: 3.14 and its type: <class 'float'>\n",
      "Value of string_var: Hello, World! and its type: <class 'str'>\n",
      "Value of boolean_var: True and its type: <class 'bool'>\n"
     ]
    }
   ],
   "source": [
    "#Data types\n",
    "# Assigning different data types to variables\n",
    "integer_var = 42           # Integer\n",
    "float_var = 3.14           # Float\n",
    "string_var = \"Hello, World!\"  # String\n",
    "boolean_var = True         # Boolean\n",
    "\n",
    "# Printing the values and their types\n",
    "print(\"Value of integer_var:\", integer_var, \"and its type:\", type(integer_var))   # Output: <class 'int'>\n",
    "print(\"Value of float_var:\", float_var, \"and its type:\", type(float_var))         # Output: <class 'float'>\n",
    "print(\"Value of string_var:\", string_var, \"and its type:\", type(string_var))      # Output: <class 'str'>\n",
    "print(\"Value of boolean_var:\", boolean_var, \"and its type:\", type(boolean_var))   # Output: <class 'bool'>\n"
   ]
  },
  {
   "cell_type": "code",
   "execution_count": 21,
   "id": "23c04857-567f-41ee-a02f-b6598c311e81",
   "metadata": {},
   "outputs": [
    {
     "name": "stdout",
     "output_type": "stream",
     "text": [
      "Uppercase String: HELLO, OPENAI AND PYTHON LEARNERS!\n",
      "Replaced String: Hello, everyone and Python learners!\n",
      "Index of 'Python': 18\n",
      "Extracted Substring: OpenAI\n"
     ]
    }
   ],
   "source": [
    "#Data Structures\n",
    "# Creating a string variable\n",
    "my_string = \"Hello, OpenAI and Python learners!\"\n",
    "\n",
    "# Demonstrating string methods\n",
    "\n",
    "# 1. upper() method - Converts all characters in the string to uppercase\n",
    "upper_string = my_string.upper()\n",
    "print(\"Uppercase String:\", upper_string)  # Output: \"HELLO, OPENAI AND PYTHON LEARNERS!\"\n",
    "\n",
    "# 2. replace() method - Replaces a specified substring with another substring\n",
    "replaced_string = my_string.replace(\"OpenAI\", \"everyone\")\n",
    "print(\"Replaced String:\", replaced_string)  # Output: \"Hello, everyone and Python learners!\"\n",
    "\n",
    "# 3. find() method - Finds the index of the first occurrence of a specified substring\n",
    "index_of_python = my_string.find(\"Python\")\n",
    "print(\"Index of 'Python':\", index_of_python)  # Output: 17\n",
    "\n",
    "# Performing string slicing to extract a substring\n",
    "substring = my_string[7:13]  # Extracts characters from index 7 to 12 (excluding index 13)\n",
    "print(\"Extracted Substring:\", substring)  # Output: \"OpenAI\"\n"
   ]
  },
  {
   "cell_type": "code",
   "execution_count": 22,
   "id": "b1633ff5-ce4e-4b64-b7fc-e8a944991988",
   "metadata": {},
   "outputs": [
    {
     "name": "stdout",
     "output_type": "stream",
     "text": [
      "First Element: 10\n",
      "Third Element: 30\n",
      "Count of 20 in tuple: 2\n",
      "Index of 30 in tuple: 2\n"
     ]
    }
   ],
   "source": [
    "#Tuples\n",
    "# Creating a tuple with five elements\n",
    "my_tuple = (10, 20, 30, 20, 50)\n",
    "\n",
    "# Accessing elements in the tuple\n",
    "first_element = my_tuple[0]   # Accessing the first element\n",
    "print(\"First Element:\", first_element)  # Output: 10\n",
    "\n",
    "third_element = my_tuple[2]   # Accessing the third element\n",
    "print(\"Third Element:\", third_element)  # Output: 30\n",
    "\n",
    "# Demonstrating tuple methods\n",
    "\n",
    "# 1. count() method - Returns the number of times a specified element appears in the tuple\n",
    "count_of_20 = my_tuple.count(20)\n",
    "print(\"Count of 20 in tuple:\", count_of_20)  # Output: 2\n",
    "\n",
    "# 2. index() method - Returns the index of the first occurrence of a specified element\n",
    "index_of_30 = my_tuple.index(30)\n",
    "print(\"Index of 30 in tuple:\", index_of_30)  # Output: 2\n"
   ]
  },
  {
   "cell_type": "code",
   "execution_count": 23,
   "id": "2f1fee36-0169-4c2f-ae20-35fc227b43f9",
   "metadata": {},
   "outputs": [
    {
     "name": "stdout",
     "output_type": "stream",
     "text": [
      "List after appending 30: [5, 10, 15, 20, 25, 30]\n",
      "List after inserting 12 at index 2: [5, 10, 12, 15, 20, 25, 30]\n",
      "List after removing 20: [5, 10, 12, 15, 25, 30]\n",
      "Removed Element: 15\n",
      "List after popping the element at index 3: [5, 10, 12, 25, 30]\n",
      "List after modifying element at index 1: [5, 100, 12, 25, 30]\n",
      "Sublist: [100, 12, 25]\n"
     ]
    }
   ],
   "source": [
    "#Lists\n",
    "# Creating a list with five elements\n",
    "my_list = [5, 10, 15, 20, 25]\n",
    "\n",
    "# Demonstrating adding elements\n",
    "\n",
    "# 1. append() method - Adds an element to the end of the list\n",
    "my_list.append(30)\n",
    "print(\"List after appending 30:\", my_list)  # Output: [5, 10, 15, 20, 25, 30]\n",
    "\n",
    "# 2. insert() method - Adds an element at a specific index\n",
    "my_list.insert(2, 12)  # Inserting 12 at index 2\n",
    "print(\"List after inserting 12 at index 2:\", my_list)  # Output: [5, 10, 12, 15, 20, 25, 30]\n",
    "\n",
    "# Demonstrating removing elements\n",
    "\n",
    "# 3. remove() method - Removes the first occurrence of a specified element\n",
    "my_list.remove(20)\n",
    "print(\"List after removing 20:\", my_list)  # Output: [5, 10, 12, 15, 25, 30]\n",
    "\n",
    "# 4. pop() method - Removes and returns the element at a specified index\n",
    "removed_element = my_list.pop(3)  # Removing the element at index 3\n",
    "print(\"Removed Element:\", removed_element)  # Output: 15\n",
    "print(\"List after popping the element at index 3:\", my_list)  # Output: [5, 10, 12, 25, 30]\n",
    "\n",
    "# Demonstrating modifying elements\n",
    "\n",
    "# Modifying the element at a specific index\n",
    "my_list[1] = 100  # Changing the element at index 1 to 100\n",
    "print(\"List after modifying element at index 1:\", my_list)  # Output: [5, 100, 12, 25, 30]\n",
    "\n",
    "# Performing list slicing to create a sublist\n",
    "sublist = my_list[1:4]  # Extracting elements from index 1 to 3 (excluding index 4)\n",
    "print(\"Sublist:\", sublist)  # Output: [100, 12, 25]\n",
    "\n"
   ]
  },
  {
   "cell_type": "code",
   "execution_count": 19,
   "id": "a644c4f2-ead0-4901-9e93-606b29df0642",
   "metadata": {},
   "outputs": [
    {
     "name": "stdout",
     "output_type": "stream",
     "text": [
      "Name: Alice\n",
      "Dictionary after adding occupation: {'name': 'Alice', 'age': 30, 'city': 'New York', 'occupation': 'Engineer'}\n",
      "Dictionary after modifying age: {'name': 'Alice', 'age': 31, 'city': 'New York', 'occupation': 'Engineer'}\n",
      "Set after adding 4: {1, 2, 3, 4}\n",
      "Set after removing 2: {1, 3, 4}\n",
      "Union of my_set and another_set: {1, 3, 4, 5, 6}\n",
      "Intersection of my_set and another_set: {3, 4}\n"
     ]
    }
   ],
   "source": [
    "#Dictonaries and sets \n",
    "# Creating a dictionary with at least three key-value pairs\n",
    "my_dict = {\n",
    "    'name': 'Alice',\n",
    "    'age': 30,\n",
    "    'city': 'New York'\n",
    "}\n",
    "\n",
    "# Demonstrating dictionary operations\n",
    "\n",
    "# 1. Accessing elements\n",
    "name_value = my_dict['name']\n",
    "print(\"Name:\", name_value)  # Output: Alice\n",
    "\n",
    "# 2. Adding elements\n",
    "my_dict['occupation'] = 'Engineer'\n",
    "print(\"Dictionary after adding occupation:\", my_dict)  # Output: {'name': 'Alice', 'age': 30, 'city': 'New York', 'occupation': 'Engineer'}\n",
    "\n",
    "# 3. Modifying elements\n",
    "my_dict['age'] = 31\n",
    "print(\"Dictionary after modifying age:\", my_dict)  # Output: {'name': 'Alice', 'age': 31, 'city': 'New York', 'occupation': 'Engineer'}\n",
    "\n",
    "# Creating a set with at least three elements\n",
    "my_set = {1, 2, 3}\n",
    "\n",
    "# Demonstrating set operations\n",
    "\n",
    "# 1. Adding elements\n",
    "my_set.add(4)\n",
    "print(\"Set after adding 4:\", my_set)  # Output: {1, 2, 3, 4}\n",
    "\n",
    "# 2. Removing elements\n",
    "my_set.remove(2)\n",
    "print(\"Set after removing 2:\", my_set)  # Output: {1, 3, 4}\n",
    "\n",
    "# 3. Set operations\n",
    "# Creating another set for demonstration\n",
    "another_set = {3, 4, 5, 6}\n",
    "\n",
    "# Union of sets\n",
    "union_set = my_set.union(another_set)\n",
    "print(\"Union of my_set and another_set:\", union_set)  # Output: {1, 3, 4, 5, 6}\n",
    "\n",
    "# Intersection of sets\n",
    "intersection_set = my_set.intersection(another_set)\n",
    "print(\"Intersection of my_set and another_set:\", intersection_set)  # Output: {3, 4}\n"
   ]
  },
  {
   "cell_type": "code",
   "execution_count": 2,
   "id": "22b0047f-3d02-477d-ad7e-f4bc6acf4306",
   "metadata": {},
   "outputs": [
    {
     "name": "stdin",
     "output_type": "stream",
     "text": [
      "Enter a number:  4\n"
     ]
    },
    {
     "name": "stdout",
     "output_type": "stream",
     "text": [
      "The number is positive.\n"
     ]
    }
   ],
   "source": [
    "#Control Statements \n",
    "# Taking user input\n",
    "user_input = input(\"Enter a number: \")\n",
    "\n",
    "# Converting input to an integer\n",
    "try:\n",
    "    number = int(user_input)\n",
    "except ValueError:\n",
    "    print(\"Invalid input. Please enter a valid integer.\")\n",
    "    exit()\n",
    "\n",
    "# Conditional statements to print different messages based on the input value\n",
    "if number > 0:\n",
    "    print(\"The number is positive.\")\n",
    "elif number < 0:\n",
    "    print(\"The number is negative.\")\n",
    "else:\n",
    "    print(\"The number is zero.\")\n"
   ]
  },
  {
   "cell_type": "code",
   "execution_count": 3,
   "id": "39dd7f08-ced0-46fc-a920-74c3d4d3d392",
   "metadata": {},
   "outputs": [
    {
     "name": "stdout",
     "output_type": "stream",
     "text": [
      "1\n",
      "2\n",
      "3\n",
      "4\n",
      "6\n",
      "7\n"
     ]
    }
   ],
   "source": [
    "#While Loop\n",
    "# Initialize the starting number\n",
    "number = 1\n",
    "\n",
    "# Start the while loop\n",
    "while number <= 10:\n",
    "    # If the number is 5, skip this iteration using continue\n",
    "    if number == 5:\n",
    "        number += 1\n",
    "        continue\n",
    "    \n",
    "    # If the number is 8, exit the loop using break\n",
    "    if number == 8:\n",
    "        break\n",
    "\n",
    "    # Print the current number\n",
    "    print(number)\n",
    "    \n",
    "    # Increment the number\n",
    "    number += 1\n",
    "else:\n",
    "    # This block will execute if the loop completes normally (without break)\n",
    "    print(\"Loop completed successfully.\")\n"
   ]
  },
  {
   "cell_type": "code",
   "execution_count": 4,
   "id": "76a1c890-fbd3-4f7f-9c27-bf425e831974",
   "metadata": {},
   "outputs": [
    {
     "name": "stdout",
     "output_type": "stream",
     "text": [
      "Printing each element in the list:\n",
      "apple\n",
      "cherry\n",
      "Stopping loop at 'date'.\n",
      "\n",
      "Nested loops example:\n",
      "Outer loop 0, Inner loop 0\n",
      "Outer loop 0, Inner loop 1\n",
      "Outer loop 1, Inner loop 0\n",
      "Outer loop 1, Inner loop 1\n",
      "Outer loop 2, Inner loop 0\n",
      "Outer loop 2, Inner loop 1\n",
      "\n",
      "Using enumerate to print index and element:\n",
      "Index 0: apple\n",
      "Index 1: banana\n",
      "Index 2: cherry\n",
      "Index 3: date\n",
      "Index 4: elderberry\n",
      "\n",
      "Creating a new list with uppercase elements:\n",
      "['APPLE', 'BANANA', 'CHERRY', 'DATE', 'ELDERBERRY']\n"
     ]
    }
   ],
   "source": [
    "# For Loop \n",
    "# Original list\n",
    "my_list = ['apple', 'banana', 'cherry', 'date', 'elderberry']\n",
    "\n",
    "# For loop to iterate over the list and print each element\n",
    "print(\"Printing each element in the list:\")\n",
    "for item in my_list:\n",
    "    # Example of using continue\n",
    "    if item == 'banana':\n",
    "        continue  # Skip printing 'banana'\n",
    "    \n",
    "    # Example of using break\n",
    "    if item == 'date':\n",
    "        print(\"Stopping loop at 'date'.\")\n",
    "        break  # Exit the loop when 'date' is encountered\n",
    "    \n",
    "    print(item)\n",
    "else:\n",
    "    # This block executes if the loop completes normally (without break)\n",
    "    print(\"Loop completed without encountering a break.\")\n",
    "\n",
    "# Nested loops example\n",
    "print(\"\\nNested loops example:\")\n",
    "for i in range(3):  # Outer loop\n",
    "    for j in range(2):  # Inner loop\n",
    "        print(f\"Outer loop {i}, Inner loop {j}\")\n",
    "\n",
    "# Using enumerate() to iterate over the list with index\n",
    "print(\"\\nUsing enumerate to print index and element:\")\n",
    "for index, item in enumerate(my_list):\n",
    "    print(f\"Index {index}: {item}\")\n",
    "\n",
    "# List comprehension to create a new list with uppercase elements\n",
    "print(\"\\nCreating a new list with uppercase elements:\")\n",
    "uppercase_list = [item.upper() for item in my_list]\n",
    "print(uppercase_list)  # Output: ['APPLE', 'BANANA', 'CHERRY', 'DATE', 'ELDERBERRY']\n"
   ]
  },
  {
   "cell_type": "code",
   "execution_count": 5,
   "id": "c156401e-45b1-4439-b8ee-5c6a775539c3",
   "metadata": {},
   "outputs": [
    {
     "name": "stdout",
     "output_type": "stream",
     "text": [
      "Name: Alice\n",
      "Age: 30\n",
      "City: New York\n",
      "Hobbies: Reading, Hiking\n",
      "Additional Info:\n",
      "  occupation: Engineer\n",
      "  country: USA\n",
      "I'm a local variable\n",
      "\n",
      "Global variable outside the function: I'm a global variable\n",
      "Error: name 'local_var' is not defined\n"
     ]
    }
   ],
   "source": [
    "#Functions and File Handlin g\n",
    "# Define a user-defined function\n",
    "def display_info(name, age, city='Unknown', *hobbies, **additional_info):\n",
    "    \"\"\"\n",
    "    This function displays information about a person including name, age, city,\n",
    "    hobbies, and any additional info.\n",
    "    \n",
    "    Parameters:\n",
    "    - name: Required positional argument\n",
    "    - age: Required positional argument\n",
    "    - city: Optional default argument (default is 'Unknown')\n",
    "    - *hobbies: Variable-length positional arguments for hobbies\n",
    "    - **additional_info: Variable-length keyword arguments for additional info\n",
    "    \"\"\"\n",
    "    # Local variables within the function\n",
    "    local_var = \"I'm a local variable\"\n",
    "    \n",
    "    # Displaying the provided information\n",
    "    print(f\"Name: {name}\")\n",
    "    print(f\"Age: {age}\")\n",
    "    print(f\"City: {city}\")\n",
    "    \n",
    "    if hobbies:\n",
    "        print(\"Hobbies:\", \", \".join(hobbies))\n",
    "    \n",
    "    if additional_info:\n",
    "        print(\"Additional Info:\")\n",
    "        for key, value in additional_info.items():\n",
    "            print(f\"  {key}: {value}\")\n",
    "\n",
    "    # Print local variable\n",
    "    print(local_var)\n",
    "\n",
    "# Global variable\n",
    "global_var = \"I'm a global variable\"\n",
    "\n",
    "# Calling the function with different types of arguments\n",
    "display_info('Alice', 30, 'New York', 'Reading', 'Hiking', occupation='Engineer', country='USA')\n",
    "\n",
    "# Demonstrating the use of local and global variables\n",
    "print(\"\\nGlobal variable outside the function:\", global_var)\n",
    "\n",
    "# Attempting to access a local variable outside the function (will cause an error)\n",
    "try:\n",
    "    print(local_var)\n",
    "except NameError as e:\n",
    "    print(\"Error:\", e)\n"
   ]
  },
  {
   "cell_type": "code",
   "execution_count": 6,
   "id": "2a68c5b7-a49c-4ef9-bdb9-e51aaaf300a7",
   "metadata": {},
   "outputs": [
    {
     "name": "stdout",
     "output_type": "stream",
     "text": [
      "File Content:\n",
      "Hello, this is a test file.\n",
      "It contains multiple lines of text.\n",
      "This is the third line of text.\n"
     ]
    }
   ],
   "source": [
    "#File Handling\n",
    "# File path\n",
    "file_path = 'example.txt'\n",
    "\n",
    "# Writing to the file\n",
    "with open(file_path, 'w') as file:\n",
    "    file.write(\"Hello, this is a test file.\\n\")\n",
    "    file.write(\"It contains multiple lines of text.\\n\")\n",
    "    file.write(\"This is the third line of text.\")\n",
    "\n",
    "# Reading from the file\n",
    "with open(file_path, 'r') as file:\n",
    "    content = file.read()\n",
    "\n",
    "# Printing the content to the console\n",
    "print(\"File Content:\")\n",
    "print(content)\n"
   ]
  },
  {
   "cell_type": "code",
   "execution_count": 7,
   "id": "a1f52684-96ec-41cb-8616-f85696331591",
   "metadata": {},
   "outputs": [
    {
     "name": "stdin",
     "output_type": "stream",
     "text": [
      "Enter the numerator:  7\n",
      "Enter the denominator:  2\n"
     ]
    },
    {
     "name": "stdout",
     "output_type": "stream",
     "text": [
      "The result of 7 divided by 2 is 3.5.\n",
      "Execution of try-except-finally block is complete.\n"
     ]
    }
   ],
   "source": [
    "# Exception Handling, Modules, and OOP\n",
    "def divide_numbers(num1, num2):\n",
    "    try:\n",
    "        # Attempt to perform division\n",
    "        result = num1 / num2\n",
    "    except ZeroDivisionError:\n",
    "        # Handle division by zero\n",
    "        print(\"Error: Division by zero is not allowed.\")\n",
    "    except ValueError:\n",
    "        # Handle invalid value errors\n",
    "        print(\"Error: Invalid value provided.\")\n",
    "    else:\n",
    "        # This block executes if no exceptions are raised\n",
    "        print(f\"The result of {num1} divided by {num2} is {result}.\")\n",
    "    finally:\n",
    "        # This block always executes, regardless of whether an exception occurred\n",
    "        print(\"Execution of try-except-finally block is complete.\")\n",
    "\n",
    "# Example usage\n",
    "try:\n",
    "    # Attempt to convert inputs to integers and perform division\n",
    "    num1 = int(input(\"Enter the numerator: \"))\n",
    "    num2 = int(input(\"Enter the denominator: \"))\n",
    "    divide_numbers(num1, num2)\n",
    "except ValueError:\n",
    "    # Handle invalid input for integer conversion\n",
    "    print(\"Error: Please enter valid integers.\")\n"
   ]
  },
  {
   "cell_type": "code",
   "execution_count": 8,
   "id": "b974970c-fe9e-452d-bdf6-ce552a417c7c",
   "metadata": {},
   "outputs": [
    {
     "name": "stdout",
     "output_type": "stream",
     "text": [
      "Area of the circle with radius 5: 78.54\n",
      "Circumference of the circle with radius 5: 31.42\n"
     ]
    }
   ],
   "source": [
    "#Modules and OOP\n",
    "#Using a Built-In Python Module\n",
    "import math\n",
    "\n",
    "# Using functions from the math module\n",
    "radius = 5\n",
    "area = math.pi * (radius ** 2)\n",
    "circumference = 2 * math.pi * radius\n",
    "\n",
    "print(f\"Area of the circle with radius {radius}: {area:.2f}\")\n",
    "print(f\"Circumference of the circle with radius {radius}: {circumference:.2f}\")\n"
   ]
  },
  {
   "cell_type": "code",
   "execution_count": 14,
   "id": "a231db8d-31b5-4af7-bee1-5b9363df7d42",
   "metadata": {},
   "outputs": [],
   "source": [
    "#Creating and Importing a User-Defined Module\n",
    "# my_module.py\n",
    "\n",
    "def greet(name):\n",
    "    return f\"Hello, {name}! Welcome to the module.\"\n",
    "\n"
   ]
  },
  {
   "cell_type": "code",
   "execution_count": 17,
   "id": "31018e03-4c20-49ce-93d4-2b41b5d4c3b0",
   "metadata": {},
   "outputs": [],
   "source": [
    "#Create the User-Defined Module\n",
    "# my_module.py\n",
    "\n",
    "def calculate_area_of_circle(radius):\n",
    "    \"\"\"\n",
    "    Calculate and return the area of a circle given its radius.\n",
    "    \"\"\"\n",
    "    import math\n",
    "    area = math.pi * (radius ** 2)\n",
    "    return area\n",
    "\n",
    "def greet_user(name):\n",
    "    \"\"\"\n",
    "    Return a greeting message for the user.\n",
    "    \"\"\"\n",
    "    return f\"Hello, {name}! Welcome to our program.\"\n"
   ]
  },
  {
   "cell_type": "code",
   "execution_count": null,
   "id": "45f0c7ae-b7a9-48fa-884d-8edc53766ef8",
   "metadata": {},
   "outputs": [],
   "source": [
    "# Import and Use the Module in Another Script\n",
    "# main_script.py\n",
    "import my_module\n",
    "\n",
    "# Use the function from the user-defined module to calculate the area of a circle\n",
    "radius = 7\n",
    "area = my_module.calculate_area_of_circle(radius)\n",
    "print(f\"The area of a circle with radius {radius} is {area:.2f}\")\n",
    "\n",
    "# Use the function from the user-defined module to greet the user\n",
    "name = \"Alice\"\n",
    "greeting = my_module.greet_user(name)\n",
    "print(greeting)\n"
   ]
  },
  {
   "cell_type": "code",
   "execution_count": 16,
   "id": "3f944b54-7525-4529-b799-3d9b0d1f0181",
   "metadata": {},
   "outputs": [
    {
     "name": "stdout",
     "output_type": "stream",
     "text": [
      "2022 Toyota Camry\n",
      "The engine of the Toyota Camry is now running.\n"
     ]
    }
   ],
   "source": [
    "#Basic OOP Concepts\n",
    "#Define a class and demonstrate its use:\n",
    "# Define a class\n",
    "class Car:\n",
    "    def __init__(self, make, model, year):\n",
    "        self.make = make\n",
    "        self.model = model\n",
    "        self.year = year\n",
    "\n",
    "    def display_info(self):\n",
    "        print(f\"{self.year} {self.make} {self.model}\")\n",
    "\n",
    "    def start_engine(self):\n",
    "        print(f\"The engine of the {self.make} {self.model} is now running.\")\n",
    "\n",
    "# Instantiate an object of the class\n",
    "my_car = Car(\"Toyota\", \"Camry\", 2022)\n",
    "\n",
    "# Call methods of the class\n",
    "my_car.display_info()  # Output: 2022 Toyota Camry\n",
    "my_car.start_engine()  # Output: The engine of the Toyota Camry is now running.\n"
   ]
  },
  {
   "cell_type": "code",
   "execution_count": null,
   "id": "0860ffa2-2f6c-48f1-88ae-978f4bd218fa",
   "metadata": {},
   "outputs": [],
   "source": []
  }
 ],
 "metadata": {
  "kernelspec": {
   "display_name": "Python 3 (ipykernel)",
   "language": "python",
   "name": "python3"
  },
  "language_info": {
   "codemirror_mode": {
    "name": "ipython",
    "version": 3
   },
   "file_extension": ".py",
   "mimetype": "text/x-python",
   "name": "python",
   "nbconvert_exporter": "python",
   "pygments_lexer": "ipython3",
   "version": "3.11.7"
  }
 },
 "nbformat": 4,
 "nbformat_minor": 5
}
