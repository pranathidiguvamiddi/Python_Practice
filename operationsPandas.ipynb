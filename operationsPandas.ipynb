{
 "cells": [
  {
   "cell_type": "code",
   "execution_count": 1,
   "id": "5e154981-b963-4da8-9be9-50f49b15a9b4",
   "metadata": {},
   "outputs": [
    {
     "name": "stdout",
     "output_type": "stream",
     "text": [
      "      Product  Price  Stock  Rating\n",
      "0      Laptop   1000     50     4.5\n",
      "1      Tablet    500    150     4.2\n",
      "2  Smartphone    800    200     4.8\n",
      "3     Monitor    300     75     4.3\n",
      "4    Keyboard    100    300     4.0\n"
     ]
    }
   ],
   "source": [
    "import pandas as pd\n",
    "\n",
    "# Create a DataFrame using dictionary types\n",
    "data = {\n",
    "    'Product': ['Laptop', 'Tablet', 'Smartphone', 'Monitor', 'Keyboard'],\n",
    "    'Price': [1000, 500, 800, 300, 100],\n",
    "    'Stock': [50, 150, 200, 75, 300],\n",
    "    'Rating': [4.5, 4.2, 4.8, 4.3, 4.0]\n",
    "}\n",
    "\n",
    "df_product = pd.DataFrame(data)\n",
    "print(df_product)\n"
   ]
  },
  {
   "cell_type": "code",
   "execution_count": 2,
   "id": "32454c48-99a1-4893-833b-2b69db7300a7",
   "metadata": {},
   "outputs": [
    {
     "data": {
      "text/html": [
       "<div>\n",
       "<style scoped>\n",
       "    .dataframe tbody tr th:only-of-type {\n",
       "        vertical-align: middle;\n",
       "    }\n",
       "\n",
       "    .dataframe tbody tr th {\n",
       "        vertical-align: top;\n",
       "    }\n",
       "\n",
       "    .dataframe thead th {\n",
       "        text-align: right;\n",
       "    }\n",
       "</style>\n",
       "<table border=\"1\" class=\"dataframe\">\n",
       "  <thead>\n",
       "    <tr style=\"text-align: right;\">\n",
       "      <th></th>\n",
       "      <th>Product</th>\n",
       "      <th>Price</th>\n",
       "      <th>Stock</th>\n",
       "      <th>Rating</th>\n",
       "    </tr>\n",
       "  </thead>\n",
       "  <tbody>\n",
       "    <tr>\n",
       "      <th>0</th>\n",
       "      <td>Laptop</td>\n",
       "      <td>1000</td>\n",
       "      <td>50</td>\n",
       "      <td>4.5</td>\n",
       "    </tr>\n",
       "    <tr>\n",
       "      <th>1</th>\n",
       "      <td>Tablet</td>\n",
       "      <td>500</td>\n",
       "      <td>150</td>\n",
       "      <td>4.2</td>\n",
       "    </tr>\n",
       "    <tr>\n",
       "      <th>2</th>\n",
       "      <td>Smartphone</td>\n",
       "      <td>800</td>\n",
       "      <td>200</td>\n",
       "      <td>4.8</td>\n",
       "    </tr>\n",
       "    <tr>\n",
       "      <th>3</th>\n",
       "      <td>Monitor</td>\n",
       "      <td>300</td>\n",
       "      <td>75</td>\n",
       "      <td>4.3</td>\n",
       "    </tr>\n",
       "    <tr>\n",
       "      <th>4</th>\n",
       "      <td>Keyboard</td>\n",
       "      <td>100</td>\n",
       "      <td>300</td>\n",
       "      <td>4.0</td>\n",
       "    </tr>\n",
       "  </tbody>\n",
       "</table>\n",
       "</div>"
      ],
      "text/plain": [
       "      Product  Price  Stock  Rating\n",
       "0      Laptop   1000     50     4.5\n",
       "1      Tablet    500    150     4.2\n",
       "2  Smartphone    800    200     4.8\n",
       "3     Monitor    300     75     4.3\n",
       "4    Keyboard    100    300     4.0"
      ]
     },
     "execution_count": 2,
     "metadata": {},
     "output_type": "execute_result"
    }
   ],
   "source": [
    "df_product"
   ]
  },
  {
   "cell_type": "code",
   "execution_count": 4,
   "id": "0133dca7-0084-455f-82bb-408c5cf5b71c",
   "metadata": {},
   "outputs": [
    {
     "data": {
      "text/plain": [
       "20"
      ]
     },
     "execution_count": 4,
     "metadata": {},
     "output_type": "execute_result"
    }
   ],
   "source": [
    "df_product.size"
   ]
  },
  {
   "cell_type": "code",
   "execution_count": 5,
   "id": "9f393ae2-0220-4729-9c7e-13df13e8c211",
   "metadata": {},
   "outputs": [
    {
     "data": {
      "text/plain": [
       "(5, 4)"
      ]
     },
     "execution_count": 5,
     "metadata": {},
     "output_type": "execute_result"
    }
   ],
   "source": [
    "df_product.shape\n"
   ]
  },
  {
   "cell_type": "code",
   "execution_count": 10,
   "id": "2c55561a-2bf8-493f-a191-9a61be9c971c",
   "metadata": {},
   "outputs": [
    {
     "data": {
      "text/plain": [
       "20"
      ]
     },
     "execution_count": 10,
     "metadata": {},
     "output_type": "execute_result"
    }
   ],
   "source": [
    "df_product.size"
   ]
  },
  {
   "cell_type": "code",
   "execution_count": 15,
   "id": "2d086c71-b5fb-4762-876b-f4ba6b80ed78",
   "metadata": {},
   "outputs": [
    {
     "data": {
      "text/plain": [
       "<bound method NDFrame.tail of       Product  Price  Stock  Rating\n",
       "0      Laptop   1000     50     4.5\n",
       "1      Tablet    500    150     4.2\n",
       "2  Smartphone    800    200     4.8\n",
       "3     Monitor    300     75     4.3\n",
       "4    Keyboard    100    300     4.0>"
      ]
     },
     "execution_count": 15,
     "metadata": {},
     "output_type": "execute_result"
    }
   ],
   "source": [
    "df_product.tail"
   ]
  },
  {
   "cell_type": "code",
   "execution_count": 16,
   "id": "76330f37-3f1d-4e86-85c0-642b22ea0234",
   "metadata": {},
   "outputs": [
    {
     "data": {
      "text/plain": [
       "<bound method NDFrame.head of       Product  Price  Stock  Rating\n",
       "0      Laptop   1000     50     4.5\n",
       "1      Tablet    500    150     4.2\n",
       "2  Smartphone    800    200     4.8\n",
       "3     Monitor    300     75     4.3\n",
       "4    Keyboard    100    300     4.0>"
      ]
     },
     "execution_count": 16,
     "metadata": {},
     "output_type": "execute_result"
    }
   ],
   "source": [
    "df_product.head"
   ]
  },
  {
   "cell_type": "code",
   "execution_count": 17,
   "id": "46ca89e9-43be-4207-a351-86f275af1f42",
   "metadata": {},
   "outputs": [
    {
     "data": {
      "text/plain": [
       "<bound method DataFrame.prod of       Product  Price  Stock  Rating\n",
       "0      Laptop   1000     50     4.5\n",
       "1      Tablet    500    150     4.2\n",
       "2  Smartphone    800    200     4.8\n",
       "3     Monitor    300     75     4.3\n",
       "4    Keyboard    100    300     4.0>"
      ]
     },
     "execution_count": 17,
     "metadata": {},
     "output_type": "execute_result"
    }
   ],
   "source": [
    "df_product.product"
   ]
  },
  {
   "cell_type": "code",
   "execution_count": 22,
   "id": "eefd528b-766a-4e91-b106-d0578bd186b1",
   "metadata": {},
   "outputs": [
    {
     "data": {
      "text/plain": [
       "<bound method DataFrame.sum of       Product  Price  Stock  Rating\n",
       "0      Laptop   1000     50     4.5\n",
       "1      Tablet    500    150     4.2\n",
       "2  Smartphone    800    200     4.8\n",
       "3     Monitor    300     75     4.3\n",
       "4    Keyboard    100    300     4.0>"
      ]
     },
     "execution_count": 22,
     "metadata": {},
     "output_type": "execute_result"
    }
   ],
   "source": [
    "df_product.sum["
   ]
  },
  {
   "cell_type": "code",
   "execution_count": 24,
   "id": "2eca9367-151f-455b-8349-e82e0ffd5892",
   "metadata": {},
   "outputs": [
    {
     "data": {
      "text/plain": [
       "<bound method DataFrame.mul of       Product  Price  Stock  Rating\n",
       "0      Laptop   1000     50     4.5\n",
       "1      Tablet    500    150     4.2\n",
       "2  Smartphone    800    200     4.8\n",
       "3     Monitor    300     75     4.3\n",
       "4    Keyboard    100    300     4.0>"
      ]
     },
     "execution_count": 24,
     "metadata": {},
     "output_type": "execute_result"
    }
   ],
   "source": [
    "df_product.mul"
   ]
  },
  {
   "cell_type": "code",
   "execution_count": 26,
   "id": "2efe8e1a-0b52-42af-964e-726c3be7d659",
   "metadata": {},
   "outputs": [
    {
     "data": {
      "text/plain": [
       "<bound method DataFrame.truediv of       Product  Price  Stock  Rating\n",
       "0      Laptop   1000     50     4.5\n",
       "1      Tablet    500    150     4.2\n",
       "2  Smartphone    800    200     4.8\n",
       "3     Monitor    300     75     4.3\n",
       "4    Keyboard    100    300     4.0>"
      ]
     },
     "execution_count": 26,
     "metadata": {},
     "output_type": "execute_result"
    }
   ],
   "source": [
    " df_product.divide"
   ]
  },
  {
   "cell_type": "code",
   "execution_count": 36,
   "id": "9561d621-7a2d-4a6c-8889-ae23ab4f8899",
   "metadata": {},
   "outputs": [
    {
     "data": {
      "text/html": [
       "<div>\n",
       "<style scoped>\n",
       "    .dataframe tbody tr th:only-of-type {\n",
       "        vertical-align: middle;\n",
       "    }\n",
       "\n",
       "    .dataframe tbody tr th {\n",
       "        vertical-align: top;\n",
       "    }\n",
       "\n",
       "    .dataframe thead th {\n",
       "        text-align: right;\n",
       "    }\n",
       "</style>\n",
       "<table border=\"1\" class=\"dataframe\">\n",
       "  <thead>\n",
       "    <tr style=\"text-align: right;\">\n",
       "      <th></th>\n",
       "      <th>Product</th>\n",
       "      <th>Price</th>\n",
       "      <th>Stock</th>\n",
       "      <th>Rating</th>\n",
       "    </tr>\n",
       "  </thead>\n",
       "  <tbody>\n",
       "    <tr>\n",
       "      <th>0</th>\n",
       "      <td>Laptop</td>\n",
       "      <td>1000</td>\n",
       "      <td>50</td>\n",
       "      <td>4.5</td>\n",
       "    </tr>\n",
       "    <tr>\n",
       "      <th>2</th>\n",
       "      <td>Smartphone</td>\n",
       "      <td>800</td>\n",
       "      <td>200</td>\n",
       "      <td>4.8</td>\n",
       "    </tr>\n",
       "  </tbody>\n",
       "</table>\n",
       "</div>"
      ],
      "text/plain": [
       "      Product  Price  Stock  Rating\n",
       "0      Laptop   1000     50     4.5\n",
       "2  Smartphone    800    200     4.8"
      ]
     },
     "execution_count": 36,
     "metadata": {},
     "output_type": "execute_result"
    }
   ],
   "source": [
    "df_product[df_product[\"Price\"]>500]"
   ]
  },
  {
   "cell_type": "code",
   "execution_count": 38,
   "id": "81b4ea99-a02d-48a5-88bd-66a002d708d0",
   "metadata": {},
   "outputs": [
    {
     "data": {
      "text/plain": [
       "0    1000\n",
       "1     500\n",
       "2     800\n",
       "3     300\n",
       "4     100\n",
       "Name: Price, dtype: int64"
      ]
     },
     "execution_count": 38,
     "metadata": {},
     "output_type": "execute_result"
    }
   ],
   "source": [
    "df_product[\"Price\"]"
   ]
  },
  {
   "cell_type": "code",
   "execution_count": 39,
   "id": "5f1021b5-5fa9-4d31-bb04-38db2a329500",
   "metadata": {},
   "outputs": [],
   "source": [
    "df_product[\"age\"]=[2,4,3,1,6]"
   ]
  },
  {
   "cell_type": "code",
   "execution_count": 41,
   "id": "17ba9a1e-1964-4d28-b317-cca3f2d8946c",
   "metadata": {},
   "outputs": [
    {
     "data": {
      "text/html": [
       "<div>\n",
       "<style scoped>\n",
       "    .dataframe tbody tr th:only-of-type {\n",
       "        vertical-align: middle;\n",
       "    }\n",
       "\n",
       "    .dataframe tbody tr th {\n",
       "        vertical-align: top;\n",
       "    }\n",
       "\n",
       "    .dataframe thead th {\n",
       "        text-align: right;\n",
       "    }\n",
       "</style>\n",
       "<table border=\"1\" class=\"dataframe\">\n",
       "  <thead>\n",
       "    <tr style=\"text-align: right;\">\n",
       "      <th></th>\n",
       "      <th>Product</th>\n",
       "      <th>Price</th>\n",
       "      <th>Stock</th>\n",
       "      <th>Rating</th>\n",
       "      <th>age</th>\n",
       "    </tr>\n",
       "  </thead>\n",
       "  <tbody>\n",
       "    <tr>\n",
       "      <th>0</th>\n",
       "      <td>Laptop</td>\n",
       "      <td>1000</td>\n",
       "      <td>50</td>\n",
       "      <td>4.5</td>\n",
       "      <td>2</td>\n",
       "    </tr>\n",
       "    <tr>\n",
       "      <th>1</th>\n",
       "      <td>Tablet</td>\n",
       "      <td>500</td>\n",
       "      <td>150</td>\n",
       "      <td>4.2</td>\n",
       "      <td>4</td>\n",
       "    </tr>\n",
       "    <tr>\n",
       "      <th>2</th>\n",
       "      <td>Smartphone</td>\n",
       "      <td>800</td>\n",
       "      <td>200</td>\n",
       "      <td>4.8</td>\n",
       "      <td>3</td>\n",
       "    </tr>\n",
       "    <tr>\n",
       "      <th>3</th>\n",
       "      <td>Monitor</td>\n",
       "      <td>300</td>\n",
       "      <td>75</td>\n",
       "      <td>4.3</td>\n",
       "      <td>1</td>\n",
       "    </tr>\n",
       "    <tr>\n",
       "      <th>4</th>\n",
       "      <td>Keyboard</td>\n",
       "      <td>100</td>\n",
       "      <td>300</td>\n",
       "      <td>4.0</td>\n",
       "      <td>6</td>\n",
       "    </tr>\n",
       "  </tbody>\n",
       "</table>\n",
       "</div>"
      ],
      "text/plain": [
       "      Product  Price  Stock  Rating  age\n",
       "0      Laptop   1000     50     4.5    2\n",
       "1      Tablet    500    150     4.2    4\n",
       "2  Smartphone    800    200     4.8    3\n",
       "3     Monitor    300     75     4.3    1\n",
       "4    Keyboard    100    300     4.0    6"
      ]
     },
     "execution_count": 41,
     "metadata": {},
     "output_type": "execute_result"
    }
   ],
   "source": [
    "df_product"
   ]
  },
  {
   "cell_type": "code",
   "execution_count": 42,
   "id": "5aa6f97b-42a8-4215-a37e-74a6bb7e2cc8",
   "metadata": {},
   "outputs": [],
   "source": [
    "import pandas as pd\n",
    "\n",
    "data = {\n",
    "    'Department': ['HR', 'IT', 'Finance', 'Marketing', 'Sales', 'IT', 'Finance', 'Marketing', 'Sales', 'HR'],\n",
    "    'Employee': ['Alice', 'Bob', 'Charlie', 'David', 'Eve', 'Frank', 'Grace', 'Hannah', 'Ivy', 'Jack'],\n",
    "    'Salary': [50000, 60000, 55000, 65000, 62000, 58000, 54000, 62000, 63000, 52000],\n",
    "    'Age': [24, 27, 22, 32, 29, 31, 28, 26, 30, 25]\n",
    "}\n",
    "\n"
   ]
  },
  {
   "cell_type": "code",
   "execution_count": 43,
   "id": "af48777b-3b30-4aac-9611-213a081d48cc",
   "metadata": {},
   "outputs": [],
   "source": [
    "df = pd.DataFrame(data)\n",
    "\n"
   ]
  },
  {
   "cell_type": "code",
   "execution_count": 44,
   "id": "328cd9e3-dc9e-4a4f-9388-a2d216be3c4a",
   "metadata": {},
   "outputs": [
    {
     "data": {
      "text/html": [
       "<div>\n",
       "<style scoped>\n",
       "    .dataframe tbody tr th:only-of-type {\n",
       "        vertical-align: middle;\n",
       "    }\n",
       "\n",
       "    .dataframe tbody tr th {\n",
       "        vertical-align: top;\n",
       "    }\n",
       "\n",
       "    .dataframe thead th {\n",
       "        text-align: right;\n",
       "    }\n",
       "</style>\n",
       "<table border=\"1\" class=\"dataframe\">\n",
       "  <thead>\n",
       "    <tr style=\"text-align: right;\">\n",
       "      <th></th>\n",
       "      <th>Department</th>\n",
       "      <th>Employee</th>\n",
       "      <th>Salary</th>\n",
       "      <th>Age</th>\n",
       "    </tr>\n",
       "  </thead>\n",
       "  <tbody>\n",
       "    <tr>\n",
       "      <th>0</th>\n",
       "      <td>HR</td>\n",
       "      <td>Alice</td>\n",
       "      <td>50000</td>\n",
       "      <td>24</td>\n",
       "    </tr>\n",
       "    <tr>\n",
       "      <th>1</th>\n",
       "      <td>IT</td>\n",
       "      <td>Bob</td>\n",
       "      <td>60000</td>\n",
       "      <td>27</td>\n",
       "    </tr>\n",
       "    <tr>\n",
       "      <th>2</th>\n",
       "      <td>Finance</td>\n",
       "      <td>Charlie</td>\n",
       "      <td>55000</td>\n",
       "      <td>22</td>\n",
       "    </tr>\n",
       "    <tr>\n",
       "      <th>3</th>\n",
       "      <td>Marketing</td>\n",
       "      <td>David</td>\n",
       "      <td>65000</td>\n",
       "      <td>32</td>\n",
       "    </tr>\n",
       "    <tr>\n",
       "      <th>4</th>\n",
       "      <td>Sales</td>\n",
       "      <td>Eve</td>\n",
       "      <td>62000</td>\n",
       "      <td>29</td>\n",
       "    </tr>\n",
       "    <tr>\n",
       "      <th>5</th>\n",
       "      <td>IT</td>\n",
       "      <td>Frank</td>\n",
       "      <td>58000</td>\n",
       "      <td>31</td>\n",
       "    </tr>\n",
       "    <tr>\n",
       "      <th>6</th>\n",
       "      <td>Finance</td>\n",
       "      <td>Grace</td>\n",
       "      <td>54000</td>\n",
       "      <td>28</td>\n",
       "    </tr>\n",
       "    <tr>\n",
       "      <th>7</th>\n",
       "      <td>Marketing</td>\n",
       "      <td>Hannah</td>\n",
       "      <td>62000</td>\n",
       "      <td>26</td>\n",
       "    </tr>\n",
       "    <tr>\n",
       "      <th>8</th>\n",
       "      <td>Sales</td>\n",
       "      <td>Ivy</td>\n",
       "      <td>63000</td>\n",
       "      <td>30</td>\n",
       "    </tr>\n",
       "    <tr>\n",
       "      <th>9</th>\n",
       "      <td>HR</td>\n",
       "      <td>Jack</td>\n",
       "      <td>52000</td>\n",
       "      <td>25</td>\n",
       "    </tr>\n",
       "  </tbody>\n",
       "</table>\n",
       "</div>"
      ],
      "text/plain": [
       "  Department Employee  Salary  Age\n",
       "0         HR    Alice   50000   24\n",
       "1         IT      Bob   60000   27\n",
       "2    Finance  Charlie   55000   22\n",
       "3  Marketing    David   65000   32\n",
       "4      Sales      Eve   62000   29\n",
       "5         IT    Frank   58000   31\n",
       "6    Finance    Grace   54000   28\n",
       "7  Marketing   Hannah   62000   26\n",
       "8      Sales      Ivy   63000   30\n",
       "9         HR     Jack   52000   25"
      ]
     },
     "execution_count": 44,
     "metadata": {},
     "output_type": "execute_result"
    }
   ],
   "source": [
    "df"
   ]
  },
  {
   "cell_type": "code",
   "execution_count": 45,
   "id": "5512c654-7468-437d-9c49-a50113bf1f8d",
   "metadata": {},
   "outputs": [
    {
     "name": "stdout",
     "output_type": "stream",
     "text": [
      "Original DataFrame:\n",
      "   Department Employee  Salary  Age\n",
      "0         HR    Alice   50000   24\n",
      "1         IT      Bob   60000   27\n",
      "2    Finance  Charlie   55000   22\n",
      "3  Marketing    David   65000   32\n",
      "4      Sales      Eve   62000   29\n",
      "5         IT    Frank   58000   31\n",
      "6    Finance    Grace   54000   28\n",
      "7  Marketing   Hannah   62000   26\n",
      "8      Sales      Ivy   63000   30\n",
      "9         HR     Jack   52000   25\n"
     ]
    }
   ],
   "source": [
    "print(\"Original DataFrame:\\n\", df)"
   ]
  },
  {
   "cell_type": "code",
   "execution_count": 46,
   "id": "5b930811-b60c-447a-b953-bf653144adc9",
   "metadata": {},
   "outputs": [],
   "source": [
    "# Group by Department and calculate the mean salary and mean age\n",
    "grouped = df.groupby('Department').agg({'Salary': 'mean', 'Age': 'mean'})\n",
    "\n"
   ]
  },
  {
   "cell_type": "code",
   "execution_count": 47,
   "id": "0c075f12-624d-4a4d-b7ff-25146f0e8222",
   "metadata": {},
   "outputs": [
    {
     "data": {
      "text/html": [
       "<div>\n",
       "<style scoped>\n",
       "    .dataframe tbody tr th:only-of-type {\n",
       "        vertical-align: middle;\n",
       "    }\n",
       "\n",
       "    .dataframe tbody tr th {\n",
       "        vertical-align: top;\n",
       "    }\n",
       "\n",
       "    .dataframe thead th {\n",
       "        text-align: right;\n",
       "    }\n",
       "</style>\n",
       "<table border=\"1\" class=\"dataframe\">\n",
       "  <thead>\n",
       "    <tr style=\"text-align: right;\">\n",
       "      <th></th>\n",
       "      <th>Salary</th>\n",
       "      <th>Age</th>\n",
       "    </tr>\n",
       "    <tr>\n",
       "      <th>Department</th>\n",
       "      <th></th>\n",
       "      <th></th>\n",
       "    </tr>\n",
       "  </thead>\n",
       "  <tbody>\n",
       "    <tr>\n",
       "      <th>Finance</th>\n",
       "      <td>54500.0</td>\n",
       "      <td>25.0</td>\n",
       "    </tr>\n",
       "    <tr>\n",
       "      <th>HR</th>\n",
       "      <td>51000.0</td>\n",
       "      <td>24.5</td>\n",
       "    </tr>\n",
       "    <tr>\n",
       "      <th>IT</th>\n",
       "      <td>59000.0</td>\n",
       "      <td>29.0</td>\n",
       "    </tr>\n",
       "    <tr>\n",
       "      <th>Marketing</th>\n",
       "      <td>63500.0</td>\n",
       "      <td>29.0</td>\n",
       "    </tr>\n",
       "    <tr>\n",
       "      <th>Sales</th>\n",
       "      <td>62500.0</td>\n",
       "      <td>29.5</td>\n",
       "    </tr>\n",
       "  </tbody>\n",
       "</table>\n",
       "</div>"
      ],
      "text/plain": [
       "             Salary   Age\n",
       "Department               \n",
       "Finance     54500.0  25.0\n",
       "HR          51000.0  24.5\n",
       "IT          59000.0  29.0\n",
       "Marketing   63500.0  29.0\n",
       "Sales       62500.0  29.5"
      ]
     },
     "execution_count": 47,
     "metadata": {},
     "output_type": "execute_result"
    }
   ],
   "source": [
    "grouped"
   ]
  },
  {
   "cell_type": "code",
   "execution_count": 48,
   "id": "20510f3c-4a4d-4549-a25a-535b13ecbadb",
   "metadata": {},
   "outputs": [
    {
     "name": "stdout",
     "output_type": "stream",
     "text": [
      "Grouped and Aggregated DataFrame:\n",
      "              Salary   Age\n",
      "Department               \n",
      "Finance     54500.0  25.0\n",
      "HR          51000.0  24.5\n",
      "IT          59000.0  29.0\n",
      "Marketing   63500.0  29.0\n",
      "Sales       62500.0  29.5\n"
     ]
    }
   ],
   "source": [
    "print(\"Grouped and Aggregated DataFrame:\\n\", grouped)"
   ]
  },
  {
   "cell_type": "code",
   "execution_count": 49,
   "id": "7be38f55-85c7-4a80-b225-42b55100644a",
   "metadata": {},
   "outputs": [
    {
     "name": "stdout",
     "output_type": "stream",
     "text": [
      "Second DataFrame:\n",
      "   Employee  Years_of_Experience\n",
      "0    Alice                    2\n",
      "1      Bob                    5\n",
      "2  Charlie                    3\n",
      "3    David                    6\n",
      "4      Eve                    4\n",
      "5    Frank                    7\n",
      "6    Grace                    5\n",
      "7   Hannah                    6\n",
      "8      Ivy                    8\n",
      "9     Jack                    2\n"
     ]
    }
   ],
   "source": [
    "data2 = {\n",
    "    'Employee': ['Alice', 'Bob', 'Charlie', 'David', 'Eve', 'Frank', 'Grace', 'Hannah', 'Ivy', 'Jack'],\n",
    "    'Years_of_Experience': [2, 5, 3, 6, 4, 7, 5, 6, 8, 2]\n",
    "}\n",
    "\n",
    "df2 = pd.DataFrame(data2)\n",
    "print(\"Second DataFrame:\\n\", df2)\n"
   ]
  },
  {
   "cell_type": "code",
   "execution_count": 50,
   "id": "f79b5100-1981-46de-afa8-dbb6094c02c1",
   "metadata": {},
   "outputs": [
    {
     "name": "stdout",
     "output_type": "stream",
     "text": [
      "Merged DataFrame:\n",
      "   Department Employee  Salary  Age  Years_of_Experience\n",
      "0         HR    Alice   50000   24                    2\n",
      "1         IT      Bob   60000   27                    5\n",
      "2    Finance  Charlie   55000   22                    3\n",
      "3  Marketing    David   65000   32                    6\n",
      "4      Sales      Eve   62000   29                    4\n",
      "5         IT    Frank   58000   31                    7\n",
      "6    Finance    Grace   54000   28                    5\n",
      "7  Marketing   Hannah   62000   26                    6\n",
      "8      Sales      Ivy   63000   30                    8\n",
      "9         HR     Jack   52000   25                    2\n"
     ]
    }
   ],
   "source": [
    "# Merge the two DataFrames on the 'Employee' column\n",
    "merged_df = pd.merge(df, df2, on='Employee')\n",
    "print(\"Merged DataFrame:\\n\", merged_df)\n"
   ]
  },
  {
   "cell_type": "code",
   "execution_count": null,
   "id": "4c6d408e-018a-464c-8d28-daa6ac7f271d",
   "metadata": {},
   "outputs": [],
   "source": []
  }
 ],
 "metadata": {
  "kernelspec": {
   "display_name": "Python 3 (ipykernel)",
   "language": "python",
   "name": "python3"
  },
  "language_info": {
   "codemirror_mode": {
    "name": "ipython",
    "version": 3
   },
   "file_extension": ".py",
   "mimetype": "text/x-python",
   "name": "python",
   "nbconvert_exporter": "python",
   "pygments_lexer": "ipython3",
   "version": "3.11.7"
  }
 },
 "nbformat": 4,
 "nbformat_minor": 5
}
